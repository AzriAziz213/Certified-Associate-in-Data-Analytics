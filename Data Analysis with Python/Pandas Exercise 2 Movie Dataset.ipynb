{
 "cells": [
  {
   "cell_type": "markdown",
   "metadata": {
    "id": "XshqfSy_uXNX"
   },
   "source": [
    "## Practice Exercise 2"
   ]
  },
  {
   "cell_type": "markdown",
   "metadata": {
    "id": "6lF29qNCuXNa"
   },
   "source": [
    "In this assignment, you will try to find some interesting insights into a few movies released between 1916 and 2016, using Python. You will have to download a movie dataset, write Python code to explore the data, gain insights into the movies, actors, directors, and collections, and submit the code."
   ]
  },
  {
   "cell_type": "markdown",
   "metadata": {
    "id": "SUkNF_8auXNa"
   },
   "source": [
    "#### Some tips before starting the assignment\n",
    "\n",
    "1. Identify the task to be performed correctly, and only then proceed to write the required code. Don’t perform any incorrect analysis or look for information that isn’t required for the assignment.\n",
    "2. In some cases, the variable names have already been assigned, and you just need to write code against them. In other cases, the names to be given are mentioned in the instructions. We strongly advise you to use the mentioned names only.\n",
    "3. Always keep inspecting your data frame after you have performed a particular set of operations.\n",
    "4. There are some checkpoints given in the IPython notebook provided. They're just useful pieces of information you can use to check if the result you have obtained after performing a particular task is correct or not.\n",
    "5. Note that you will be asked to refer to documentation for solving some of the questions. That is done on purpose for you to learn new commands and also how to use the documentation."
   ]
  },
  {
   "cell_type": "code",
   "execution_count": 1,
   "metadata": {
    "id": "H_KfP4JguXNb"
   },
   "outputs": [],
   "source": [
    "# Import the numpy and pandas packages\n",
    "\n",
    "import numpy as np\n",
    "import pandas as pd"
   ]
  },
  {
   "cell_type": "markdown",
   "metadata": {
    "id": "sooWNIOMuXNb"
   },
   "source": [
    "### Task 1: Reading and Inspection\n",
    "\n",
    "**Subtask 1.1: Import and read**\n",
    "\n",
    "Import and read the movie database. Store it in a variable called `movies`."
   ]
  },
  {
   "cell_type": "code",
   "execution_count": 2,
   "metadata": {
    "colab": {
     "base_uri": "https://localhost:8080/",
     "height": 627
    },
    "id": "EuhabApiuXNb",
    "outputId": "a5c7ebfa-8cbf-40d8-bc5c-a2a08fb4a34e"
   },
   "outputs": [
    {
     "data": {
      "text/html": [
       "<div>\n",
       "<style scoped>\n",
       "    .dataframe tbody tr th:only-of-type {\n",
       "        vertical-align: middle;\n",
       "    }\n",
       "\n",
       "    .dataframe tbody tr th {\n",
       "        vertical-align: top;\n",
       "    }\n",
       "\n",
       "    .dataframe thead th {\n",
       "        text-align: right;\n",
       "    }\n",
       "</style>\n",
       "<table border=\"1\" class=\"dataframe\">\n",
       "  <thead>\n",
       "    <tr style=\"text-align: right;\">\n",
       "      <th></th>\n",
       "      <th>color</th>\n",
       "      <th>director_name</th>\n",
       "      <th>num_critic_for_reviews</th>\n",
       "      <th>duration</th>\n",
       "      <th>director_facebook_likes</th>\n",
       "      <th>actor_3_facebook_likes</th>\n",
       "      <th>actor_2_name</th>\n",
       "      <th>actor_1_facebook_likes</th>\n",
       "      <th>gross</th>\n",
       "      <th>genres</th>\n",
       "      <th>...</th>\n",
       "      <th>num_user_for_reviews</th>\n",
       "      <th>language</th>\n",
       "      <th>country</th>\n",
       "      <th>content_rating</th>\n",
       "      <th>budget</th>\n",
       "      <th>title_year</th>\n",
       "      <th>actor_2_facebook_likes</th>\n",
       "      <th>imdb_score</th>\n",
       "      <th>aspect_ratio</th>\n",
       "      <th>movie_facebook_likes</th>\n",
       "    </tr>\n",
       "  </thead>\n",
       "  <tbody>\n",
       "    <tr>\n",
       "      <th>0</th>\n",
       "      <td>Color</td>\n",
       "      <td>James Cameron</td>\n",
       "      <td>723.0</td>\n",
       "      <td>178.0</td>\n",
       "      <td>0.0</td>\n",
       "      <td>855.0</td>\n",
       "      <td>Joel David Moore</td>\n",
       "      <td>1000.0</td>\n",
       "      <td>760505847.0</td>\n",
       "      <td>Action|Adventure|Fantasy|Sci-Fi</td>\n",
       "      <td>...</td>\n",
       "      <td>3054.0</td>\n",
       "      <td>English</td>\n",
       "      <td>USA</td>\n",
       "      <td>PG-13</td>\n",
       "      <td>237000000.0</td>\n",
       "      <td>2009.0</td>\n",
       "      <td>936.0</td>\n",
       "      <td>7.9</td>\n",
       "      <td>1.78</td>\n",
       "      <td>33000</td>\n",
       "    </tr>\n",
       "    <tr>\n",
       "      <th>1</th>\n",
       "      <td>Color</td>\n",
       "      <td>Gore Verbinski</td>\n",
       "      <td>302.0</td>\n",
       "      <td>169.0</td>\n",
       "      <td>563.0</td>\n",
       "      <td>1000.0</td>\n",
       "      <td>Orlando Bloom</td>\n",
       "      <td>40000.0</td>\n",
       "      <td>309404152.0</td>\n",
       "      <td>Action|Adventure|Fantasy</td>\n",
       "      <td>...</td>\n",
       "      <td>1238.0</td>\n",
       "      <td>English</td>\n",
       "      <td>USA</td>\n",
       "      <td>PG-13</td>\n",
       "      <td>300000000.0</td>\n",
       "      <td>2007.0</td>\n",
       "      <td>5000.0</td>\n",
       "      <td>7.1</td>\n",
       "      <td>2.35</td>\n",
       "      <td>0</td>\n",
       "    </tr>\n",
       "    <tr>\n",
       "      <th>2</th>\n",
       "      <td>Color</td>\n",
       "      <td>Sam Mendes</td>\n",
       "      <td>602.0</td>\n",
       "      <td>148.0</td>\n",
       "      <td>0.0</td>\n",
       "      <td>161.0</td>\n",
       "      <td>Rory Kinnear</td>\n",
       "      <td>11000.0</td>\n",
       "      <td>200074175.0</td>\n",
       "      <td>Action|Adventure|Thriller</td>\n",
       "      <td>...</td>\n",
       "      <td>994.0</td>\n",
       "      <td>English</td>\n",
       "      <td>UK</td>\n",
       "      <td>PG-13</td>\n",
       "      <td>245000000.0</td>\n",
       "      <td>2015.0</td>\n",
       "      <td>393.0</td>\n",
       "      <td>6.8</td>\n",
       "      <td>2.35</td>\n",
       "      <td>85000</td>\n",
       "    </tr>\n",
       "    <tr>\n",
       "      <th>3</th>\n",
       "      <td>Color</td>\n",
       "      <td>Christopher Nolan</td>\n",
       "      <td>813.0</td>\n",
       "      <td>164.0</td>\n",
       "      <td>22000.0</td>\n",
       "      <td>23000.0</td>\n",
       "      <td>Christian Bale</td>\n",
       "      <td>27000.0</td>\n",
       "      <td>448130642.0</td>\n",
       "      <td>Action|Thriller</td>\n",
       "      <td>...</td>\n",
       "      <td>2701.0</td>\n",
       "      <td>English</td>\n",
       "      <td>USA</td>\n",
       "      <td>PG-13</td>\n",
       "      <td>250000000.0</td>\n",
       "      <td>2012.0</td>\n",
       "      <td>23000.0</td>\n",
       "      <td>8.5</td>\n",
       "      <td>2.35</td>\n",
       "      <td>164000</td>\n",
       "    </tr>\n",
       "    <tr>\n",
       "      <th>4</th>\n",
       "      <td>Color</td>\n",
       "      <td>Andrew Stanton</td>\n",
       "      <td>462.0</td>\n",
       "      <td>132.0</td>\n",
       "      <td>475.0</td>\n",
       "      <td>530.0</td>\n",
       "      <td>Samantha Morton</td>\n",
       "      <td>640.0</td>\n",
       "      <td>73058679.0</td>\n",
       "      <td>Action|Adventure|Sci-Fi</td>\n",
       "      <td>...</td>\n",
       "      <td>738.0</td>\n",
       "      <td>English</td>\n",
       "      <td>USA</td>\n",
       "      <td>PG-13</td>\n",
       "      <td>263700000.0</td>\n",
       "      <td>2012.0</td>\n",
       "      <td>632.0</td>\n",
       "      <td>6.6</td>\n",
       "      <td>2.35</td>\n",
       "      <td>24000</td>\n",
       "    </tr>\n",
       "    <tr>\n",
       "      <th>...</th>\n",
       "      <td>...</td>\n",
       "      <td>...</td>\n",
       "      <td>...</td>\n",
       "      <td>...</td>\n",
       "      <td>...</td>\n",
       "      <td>...</td>\n",
       "      <td>...</td>\n",
       "      <td>...</td>\n",
       "      <td>...</td>\n",
       "      <td>...</td>\n",
       "      <td>...</td>\n",
       "      <td>...</td>\n",
       "      <td>...</td>\n",
       "      <td>...</td>\n",
       "      <td>...</td>\n",
       "      <td>...</td>\n",
       "      <td>...</td>\n",
       "      <td>...</td>\n",
       "      <td>...</td>\n",
       "      <td>...</td>\n",
       "      <td>...</td>\n",
       "    </tr>\n",
       "    <tr>\n",
       "      <th>3848</th>\n",
       "      <td>Color</td>\n",
       "      <td>Shane Carruth</td>\n",
       "      <td>143.0</td>\n",
       "      <td>77.0</td>\n",
       "      <td>291.0</td>\n",
       "      <td>8.0</td>\n",
       "      <td>David Sullivan</td>\n",
       "      <td>291.0</td>\n",
       "      <td>424760.0</td>\n",
       "      <td>Drama|Sci-Fi|Thriller</td>\n",
       "      <td>...</td>\n",
       "      <td>371.0</td>\n",
       "      <td>English</td>\n",
       "      <td>USA</td>\n",
       "      <td>PG-13</td>\n",
       "      <td>7000.0</td>\n",
       "      <td>2004.0</td>\n",
       "      <td>45.0</td>\n",
       "      <td>7.0</td>\n",
       "      <td>1.85</td>\n",
       "      <td>19000</td>\n",
       "    </tr>\n",
       "    <tr>\n",
       "      <th>3849</th>\n",
       "      <td>Color</td>\n",
       "      <td>Neill Dela Llana</td>\n",
       "      <td>35.0</td>\n",
       "      <td>80.0</td>\n",
       "      <td>0.0</td>\n",
       "      <td>0.0</td>\n",
       "      <td>Edgar Tancangco</td>\n",
       "      <td>0.0</td>\n",
       "      <td>70071.0</td>\n",
       "      <td>Thriller</td>\n",
       "      <td>...</td>\n",
       "      <td>35.0</td>\n",
       "      <td>English</td>\n",
       "      <td>Philippines</td>\n",
       "      <td>Not Rated</td>\n",
       "      <td>7000.0</td>\n",
       "      <td>2005.0</td>\n",
       "      <td>0.0</td>\n",
       "      <td>6.3</td>\n",
       "      <td>NaN</td>\n",
       "      <td>74</td>\n",
       "    </tr>\n",
       "    <tr>\n",
       "      <th>3850</th>\n",
       "      <td>Color</td>\n",
       "      <td>Robert Rodriguez</td>\n",
       "      <td>56.0</td>\n",
       "      <td>81.0</td>\n",
       "      <td>0.0</td>\n",
       "      <td>6.0</td>\n",
       "      <td>Peter Marquardt</td>\n",
       "      <td>121.0</td>\n",
       "      <td>2040920.0</td>\n",
       "      <td>Action|Crime|Drama|Romance|Thriller</td>\n",
       "      <td>...</td>\n",
       "      <td>130.0</td>\n",
       "      <td>Spanish</td>\n",
       "      <td>USA</td>\n",
       "      <td>R</td>\n",
       "      <td>7000.0</td>\n",
       "      <td>1992.0</td>\n",
       "      <td>20.0</td>\n",
       "      <td>6.9</td>\n",
       "      <td>1.37</td>\n",
       "      <td>0</td>\n",
       "    </tr>\n",
       "    <tr>\n",
       "      <th>3851</th>\n",
       "      <td>Color</td>\n",
       "      <td>Edward Burns</td>\n",
       "      <td>14.0</td>\n",
       "      <td>95.0</td>\n",
       "      <td>0.0</td>\n",
       "      <td>133.0</td>\n",
       "      <td>Caitlin FitzGerald</td>\n",
       "      <td>296.0</td>\n",
       "      <td>4584.0</td>\n",
       "      <td>Comedy|Drama</td>\n",
       "      <td>...</td>\n",
       "      <td>14.0</td>\n",
       "      <td>English</td>\n",
       "      <td>USA</td>\n",
       "      <td>Not Rated</td>\n",
       "      <td>9000.0</td>\n",
       "      <td>2011.0</td>\n",
       "      <td>205.0</td>\n",
       "      <td>6.4</td>\n",
       "      <td>NaN</td>\n",
       "      <td>413</td>\n",
       "    </tr>\n",
       "    <tr>\n",
       "      <th>3852</th>\n",
       "      <td>Color</td>\n",
       "      <td>Jon Gunn</td>\n",
       "      <td>43.0</td>\n",
       "      <td>90.0</td>\n",
       "      <td>16.0</td>\n",
       "      <td>16.0</td>\n",
       "      <td>Brian Herzlinger</td>\n",
       "      <td>86.0</td>\n",
       "      <td>85222.0</td>\n",
       "      <td>Documentary</td>\n",
       "      <td>...</td>\n",
       "      <td>84.0</td>\n",
       "      <td>English</td>\n",
       "      <td>USA</td>\n",
       "      <td>PG</td>\n",
       "      <td>1100.0</td>\n",
       "      <td>2004.0</td>\n",
       "      <td>23.0</td>\n",
       "      <td>6.6</td>\n",
       "      <td>1.85</td>\n",
       "      <td>456</td>\n",
       "    </tr>\n",
       "  </tbody>\n",
       "</table>\n",
       "<p>3853 rows × 28 columns</p>\n",
       "</div>"
      ],
      "text/plain": [
       "      color      director_name  num_critic_for_reviews  duration  \\\n",
       "0     Color      James Cameron                   723.0     178.0   \n",
       "1     Color     Gore Verbinski                   302.0     169.0   \n",
       "2     Color         Sam Mendes                   602.0     148.0   \n",
       "3     Color  Christopher Nolan                   813.0     164.0   \n",
       "4     Color     Andrew Stanton                   462.0     132.0   \n",
       "...     ...                ...                     ...       ...   \n",
       "3848  Color      Shane Carruth                   143.0      77.0   \n",
       "3849  Color   Neill Dela Llana                    35.0      80.0   \n",
       "3850  Color   Robert Rodriguez                    56.0      81.0   \n",
       "3851  Color       Edward Burns                    14.0      95.0   \n",
       "3852  Color           Jon Gunn                    43.0      90.0   \n",
       "\n",
       "      director_facebook_likes  actor_3_facebook_likes        actor_2_name  \\\n",
       "0                         0.0                   855.0    Joel David Moore   \n",
       "1                       563.0                  1000.0       Orlando Bloom   \n",
       "2                         0.0                   161.0        Rory Kinnear   \n",
       "3                     22000.0                 23000.0      Christian Bale   \n",
       "4                       475.0                   530.0     Samantha Morton   \n",
       "...                       ...                     ...                 ...   \n",
       "3848                    291.0                     8.0      David Sullivan   \n",
       "3849                      0.0                     0.0     Edgar Tancangco   \n",
       "3850                      0.0                     6.0     Peter Marquardt   \n",
       "3851                      0.0                   133.0  Caitlin FitzGerald   \n",
       "3852                     16.0                    16.0    Brian Herzlinger   \n",
       "\n",
       "      actor_1_facebook_likes        gross  \\\n",
       "0                     1000.0  760505847.0   \n",
       "1                    40000.0  309404152.0   \n",
       "2                    11000.0  200074175.0   \n",
       "3                    27000.0  448130642.0   \n",
       "4                      640.0   73058679.0   \n",
       "...                      ...          ...   \n",
       "3848                   291.0     424760.0   \n",
       "3849                     0.0      70071.0   \n",
       "3850                   121.0    2040920.0   \n",
       "3851                   296.0       4584.0   \n",
       "3852                    86.0      85222.0   \n",
       "\n",
       "                                   genres  ... num_user_for_reviews language  \\\n",
       "0         Action|Adventure|Fantasy|Sci-Fi  ...               3054.0  English   \n",
       "1                Action|Adventure|Fantasy  ...               1238.0  English   \n",
       "2               Action|Adventure|Thriller  ...                994.0  English   \n",
       "3                         Action|Thriller  ...               2701.0  English   \n",
       "4                 Action|Adventure|Sci-Fi  ...                738.0  English   \n",
       "...                                   ...  ...                  ...      ...   \n",
       "3848                Drama|Sci-Fi|Thriller  ...                371.0  English   \n",
       "3849                             Thriller  ...                 35.0  English   \n",
       "3850  Action|Crime|Drama|Romance|Thriller  ...                130.0  Spanish   \n",
       "3851                         Comedy|Drama  ...                 14.0  English   \n",
       "3852                          Documentary  ...                 84.0  English   \n",
       "\n",
       "          country  content_rating       budget  title_year  \\\n",
       "0             USA           PG-13  237000000.0      2009.0   \n",
       "1             USA           PG-13  300000000.0      2007.0   \n",
       "2              UK           PG-13  245000000.0      2015.0   \n",
       "3             USA           PG-13  250000000.0      2012.0   \n",
       "4             USA           PG-13  263700000.0      2012.0   \n",
       "...           ...             ...          ...         ...   \n",
       "3848          USA           PG-13       7000.0      2004.0   \n",
       "3849  Philippines       Not Rated       7000.0      2005.0   \n",
       "3850          USA               R       7000.0      1992.0   \n",
       "3851          USA       Not Rated       9000.0      2011.0   \n",
       "3852          USA              PG       1100.0      2004.0   \n",
       "\n",
       "     actor_2_facebook_likes imdb_score  aspect_ratio movie_facebook_likes  \n",
       "0                     936.0        7.9          1.78                33000  \n",
       "1                    5000.0        7.1          2.35                    0  \n",
       "2                     393.0        6.8          2.35                85000  \n",
       "3                   23000.0        8.5          2.35               164000  \n",
       "4                     632.0        6.6          2.35                24000  \n",
       "...                     ...        ...           ...                  ...  \n",
       "3848                   45.0        7.0          1.85                19000  \n",
       "3849                    0.0        6.3           NaN                   74  \n",
       "3850                   20.0        6.9          1.37                    0  \n",
       "3851                  205.0        6.4           NaN                  413  \n",
       "3852                   23.0        6.6          1.85                  456  \n",
       "\n",
       "[3853 rows x 28 columns]"
      ]
     },
     "execution_count": 2,
     "metadata": {},
     "output_type": "execute_result"
    }
   ],
   "source": [
    "# Write your code for importing the csv file here\n",
    "movies = pd.read_csv('6_Movies.csv')\n",
    "movies"
   ]
  },
  {
   "cell_type": "markdown",
   "metadata": {
    "id": "xE4LuwjPuXNc"
   },
   "source": [
    "**Subtask 1.2: Inspect the dataframe**\n",
    "\n",
    "Inspect the dataframe's columns, shapes, variable types etc."
   ]
  },
  {
   "cell_type": "code",
   "execution_count": 3,
   "metadata": {
    "id": "ULpx3DjTuXNc"
   },
   "outputs": [
    {
     "data": {
      "text/plain": [
       "(3853, 28)"
      ]
     },
     "execution_count": 3,
     "metadata": {},
     "output_type": "execute_result"
    }
   ],
   "source": [
    "# Write your code for inspection here\n",
    "movies.shape"
   ]
  },
  {
   "cell_type": "code",
   "execution_count": 4,
   "metadata": {},
   "outputs": [
    {
     "name": "stdout",
     "output_type": "stream",
     "text": [
      "<class 'pandas.core.frame.DataFrame'>\n",
      "RangeIndex: 3853 entries, 0 to 3852\n",
      "Data columns (total 28 columns):\n",
      " #   Column                     Non-Null Count  Dtype  \n",
      "---  ------                     --------------  -----  \n",
      " 0   color                      3851 non-null   object \n",
      " 1   director_name              3853 non-null   object \n",
      " 2   num_critic_for_reviews     3852 non-null   float64\n",
      " 3   duration                   3852 non-null   float64\n",
      " 4   director_facebook_likes    3853 non-null   float64\n",
      " 5   actor_3_facebook_likes     3847 non-null   float64\n",
      " 6   actor_2_name               3852 non-null   object \n",
      " 7   actor_1_facebook_likes     3853 non-null   float64\n",
      " 8   gross                      3853 non-null   float64\n",
      " 9   genres                     3853 non-null   object \n",
      " 10  actor_1_name               3853 non-null   object \n",
      " 11  movie_title                3853 non-null   object \n",
      " 12  num_voted_users            3853 non-null   int64  \n",
      " 13  cast_total_facebook_likes  3853 non-null   int64  \n",
      " 14  actor_3_name               3847 non-null   object \n",
      " 15  facenumber_in_poster       3847 non-null   float64\n",
      " 16  plot_keywords              3823 non-null   object \n",
      " 17  movie_imdb_link            3853 non-null   object \n",
      " 18  num_user_for_reviews       3853 non-null   float64\n",
      " 19  language                   3850 non-null   object \n",
      " 20  country                    3853 non-null   object \n",
      " 21  content_rating             3805 non-null   object \n",
      " 22  budget                     3853 non-null   float64\n",
      " 23  title_year                 3853 non-null   float64\n",
      " 24  actor_2_facebook_likes     3852 non-null   float64\n",
      " 25  imdb_score                 3853 non-null   float64\n",
      " 26  aspect_ratio               3781 non-null   float64\n",
      " 27  movie_facebook_likes       3853 non-null   int64  \n",
      "dtypes: float64(13), int64(3), object(12)\n",
      "memory usage: 843.0+ KB\n"
     ]
    }
   ],
   "source": [
    "movies.info()"
   ]
  },
  {
   "cell_type": "code",
   "execution_count": 5,
   "metadata": {},
   "outputs": [
    {
     "data": {
      "text/plain": [
       "<bound method NDFrame.describe of       color      director_name  num_critic_for_reviews  duration  \\\n",
       "0     Color      James Cameron                   723.0     178.0   \n",
       "1     Color     Gore Verbinski                   302.0     169.0   \n",
       "2     Color         Sam Mendes                   602.0     148.0   \n",
       "3     Color  Christopher Nolan                   813.0     164.0   \n",
       "4     Color     Andrew Stanton                   462.0     132.0   \n",
       "...     ...                ...                     ...       ...   \n",
       "3848  Color      Shane Carruth                   143.0      77.0   \n",
       "3849  Color   Neill Dela Llana                    35.0      80.0   \n",
       "3850  Color   Robert Rodriguez                    56.0      81.0   \n",
       "3851  Color       Edward Burns                    14.0      95.0   \n",
       "3852  Color           Jon Gunn                    43.0      90.0   \n",
       "\n",
       "      director_facebook_likes  actor_3_facebook_likes        actor_2_name  \\\n",
       "0                         0.0                   855.0    Joel David Moore   \n",
       "1                       563.0                  1000.0       Orlando Bloom   \n",
       "2                         0.0                   161.0        Rory Kinnear   \n",
       "3                     22000.0                 23000.0      Christian Bale   \n",
       "4                       475.0                   530.0     Samantha Morton   \n",
       "...                       ...                     ...                 ...   \n",
       "3848                    291.0                     8.0      David Sullivan   \n",
       "3849                      0.0                     0.0     Edgar Tancangco   \n",
       "3850                      0.0                     6.0     Peter Marquardt   \n",
       "3851                      0.0                   133.0  Caitlin FitzGerald   \n",
       "3852                     16.0                    16.0    Brian Herzlinger   \n",
       "\n",
       "      actor_1_facebook_likes        gross  \\\n",
       "0                     1000.0  760505847.0   \n",
       "1                    40000.0  309404152.0   \n",
       "2                    11000.0  200074175.0   \n",
       "3                    27000.0  448130642.0   \n",
       "4                      640.0   73058679.0   \n",
       "...                      ...          ...   \n",
       "3848                   291.0     424760.0   \n",
       "3849                     0.0      70071.0   \n",
       "3850                   121.0    2040920.0   \n",
       "3851                   296.0       4584.0   \n",
       "3852                    86.0      85222.0   \n",
       "\n",
       "                                   genres  ... num_user_for_reviews language  \\\n",
       "0         Action|Adventure|Fantasy|Sci-Fi  ...               3054.0  English   \n",
       "1                Action|Adventure|Fantasy  ...               1238.0  English   \n",
       "2               Action|Adventure|Thriller  ...                994.0  English   \n",
       "3                         Action|Thriller  ...               2701.0  English   \n",
       "4                 Action|Adventure|Sci-Fi  ...                738.0  English   \n",
       "...                                   ...  ...                  ...      ...   \n",
       "3848                Drama|Sci-Fi|Thriller  ...                371.0  English   \n",
       "3849                             Thriller  ...                 35.0  English   \n",
       "3850  Action|Crime|Drama|Romance|Thriller  ...                130.0  Spanish   \n",
       "3851                         Comedy|Drama  ...                 14.0  English   \n",
       "3852                          Documentary  ...                 84.0  English   \n",
       "\n",
       "          country  content_rating       budget  title_year  \\\n",
       "0             USA           PG-13  237000000.0      2009.0   \n",
       "1             USA           PG-13  300000000.0      2007.0   \n",
       "2              UK           PG-13  245000000.0      2015.0   \n",
       "3             USA           PG-13  250000000.0      2012.0   \n",
       "4             USA           PG-13  263700000.0      2012.0   \n",
       "...           ...             ...          ...         ...   \n",
       "3848          USA           PG-13       7000.0      2004.0   \n",
       "3849  Philippines       Not Rated       7000.0      2005.0   \n",
       "3850          USA               R       7000.0      1992.0   \n",
       "3851          USA       Not Rated       9000.0      2011.0   \n",
       "3852          USA              PG       1100.0      2004.0   \n",
       "\n",
       "     actor_2_facebook_likes imdb_score  aspect_ratio movie_facebook_likes  \n",
       "0                     936.0        7.9          1.78                33000  \n",
       "1                    5000.0        7.1          2.35                    0  \n",
       "2                     393.0        6.8          2.35                85000  \n",
       "3                   23000.0        8.5          2.35               164000  \n",
       "4                     632.0        6.6          2.35                24000  \n",
       "...                     ...        ...           ...                  ...  \n",
       "3848                   45.0        7.0          1.85                19000  \n",
       "3849                    0.0        6.3           NaN                   74  \n",
       "3850                   20.0        6.9          1.37                    0  \n",
       "3851                  205.0        6.4           NaN                  413  \n",
       "3852                   23.0        6.6          1.85                  456  \n",
       "\n",
       "[3853 rows x 28 columns]>"
      ]
     },
     "execution_count": 5,
     "metadata": {},
     "output_type": "execute_result"
    }
   ],
   "source": [
    "movies.describe"
   ]
  },
  {
   "cell_type": "markdown",
   "metadata": {
    "id": "iTpZ3uIfuXNc"
   },
   "source": [
    "#### <font color='red'>Question 1: How many rows and columns are present in the dataframe? </font>\n",
    "-  <font color='red'>(3821, 26)</font>\n",
    "-  <font color='red'>(3879, 28)</font>\n",
    "-  <font color='red'>(3853, 28)</font>\n",
    "-  <font color='red'>(3866, 26)</font>"
   ]
  },
  {
   "cell_type": "code",
   "execution_count": 6,
   "metadata": {
    "id": "irUHMhNB6_WI"
   },
   "outputs": [
    {
     "data": {
      "text/plain": [
       "(3853, 28)"
      ]
     },
     "execution_count": 6,
     "metadata": {},
     "output_type": "execute_result"
    }
   ],
   "source": [
    "## Write your code here\n",
    "movies.shape"
   ]
  },
  {
   "cell_type": "markdown",
   "metadata": {
    "id": "ppUf8OsnuXNc"
   },
   "source": [
    "#### <font color='red'>Question 2: How many columns have null values present in them? Try writing a code for this instead of counting them manually.</font>\n",
    "\n",
    "-  <font color='red'>3</font>\n",
    "-  <font color='red'>6</font>\n",
    "-  <font color='red'>9</font>\n",
    "-  <font color='red'>12</font>"
   ]
  },
  {
   "cell_type": "code",
   "execution_count": 7,
   "metadata": {
    "id": "bJRVBlJF7NqB"
   },
   "outputs": [
    {
     "name": "stdout",
     "output_type": "stream",
     "text": [
      "12\n"
     ]
    }
   ],
   "source": [
    "## Write your code here\n",
    "null_column_count = movies.columns[movies.isna().any()]\n",
    "\n",
    "print(len(null_column_count))"
   ]
  },
  {
   "cell_type": "markdown",
   "metadata": {
    "id": "X-W3oxUyuXNc"
   },
   "source": [
    "### Task 2: Cleaning the Data\n",
    "\n",
    "**Subtask 2.1: Drop unecessary columns**\n",
    "\n",
    "For this assignment, you will mostly be analyzing the movies with respect to the ratings, gross collection, popularity of movies, etc. So many of the columns in this dataframe are not required. So it is advised to drop the following columns.\n",
    "-  color\n",
    "-  director_facebook_likes\n",
    "-  actor_1_facebook_likes\n",
    "-  actor_2_facebook_likes\n",
    "-  actor_3_facebook_likes\n",
    "-  actor_2_name\n",
    "-  cast_total_facebook_likes\n",
    "-  actor_3_name\n",
    "-  duration\n",
    "-  facenumber_in_poster\n",
    "-  content_rating\n",
    "-  country\n",
    "-  movie_imdb_link\n",
    "-  aspect_ratio\n",
    "-  plot_keywords"
   ]
  },
  {
   "cell_type": "code",
   "execution_count": 8,
   "metadata": {
    "id": "Wxfok821uXNd"
   },
   "outputs": [],
   "source": [
    "# Check the 'drop' function in the Pandas library - dataframe.drop(list_of_unnecessary_columns, axis = )\n",
    "# Write your code for dropping the columns here. It is advised to keep inspecting the dataframe after each set of operations\n",
    "\n",
    "movies.drop(columns=[\n",
    "    'color', \n",
    "    'director_facebook_likes', \n",
    "    'actor_1_facebook_likes', \n",
    "    'actor_2_facebook_likes', \n",
    "    'actor_3_facebook_likes', \n",
    "    'actor_2_name', \n",
    "    'cast_total_facebook_likes', \n",
    "    'actor_3_name', \n",
    "    'duration', \n",
    "    'facenumber_in_poster', \n",
    "    'content_rating', \n",
    "    'country', \n",
    "    'movie_imdb_link', \n",
    "    'aspect_ratio', \n",
    "    'plot_keywords'], \n",
    "    inplace = True)"
   ]
  },
  {
   "cell_type": "markdown",
   "metadata": {
    "id": "QgTCnAPcuXNd"
   },
   "source": [
    "#### <font color='red'>Question 3: What is the count of columns in the new dataframe? </font>\n",
    "-  <font color='red'>10</font>\n",
    "-  <font color='red'>13</font>\n",
    "-  <font color='red'>15</font>\n",
    "-  <font color='red'>17</font>"
   ]
  },
  {
   "cell_type": "code",
   "execution_count": 9,
   "metadata": {
    "id": "LKkmOxdwwADA"
   },
   "outputs": [
    {
     "data": {
      "text/plain": [
       "(3853, 13)"
      ]
     },
     "execution_count": 9,
     "metadata": {},
     "output_type": "execute_result"
    }
   ],
   "source": [
    "## Write your code here\n",
    "movies.shape"
   ]
  },
  {
   "cell_type": "markdown",
   "metadata": {},
   "source": [
    "#### Count of columns = 13"
   ]
  },
  {
   "cell_type": "markdown",
   "metadata": {
    "id": "3aERBDsxuXNd"
   },
   "source": [
    "**Subtask 2.2: Inspect Null values**\n",
    "\n",
    "As you have seen above, there are null values in multiple columns of the dataframe 'movies'. Find out the percentage of null values in each column of the dataframe 'movies'. "
   ]
  },
  {
   "cell_type": "code",
   "execution_count": 10,
   "metadata": {
    "id": "wZ51pTxjuXNd"
   },
   "outputs": [
    {
     "name": "stdout",
     "output_type": "stream",
     "text": [
      "director_name             0.000000\n",
      "num_critic_for_reviews    0.025954\n",
      "gross                     0.000000\n",
      "genres                    0.000000\n",
      "actor_1_name              0.000000\n",
      "movie_title               0.000000\n",
      "num_voted_users           0.000000\n",
      "num_user_for_reviews      0.000000\n",
      "language                  0.077861\n",
      "budget                    0.000000\n",
      "title_year                0.000000\n",
      "imdb_score                0.000000\n",
      "movie_facebook_likes      0.000000\n",
      "dtype: float64\n"
     ]
    }
   ],
   "source": [
    "# Write you code here\n",
    "percent_missing = movies.isnull().sum() * 100 / len(movies)\n",
    "print(percent_missing)"
   ]
  },
  {
   "cell_type": "markdown",
   "metadata": {
    "id": "z8jocpwuuXNd"
   },
   "source": [
    "#### <font color='red'>Question 4: Which column has the highest percentage of null values? </font>\n",
    "-  <font color='red'>language</font>\n",
    "-  <font color='red'>genres</font>\n",
    "-  <font color='red'>num_critic_for_reviews</font>\n",
    "-  <font color='red'>imdb_score</font>"
   ]
  },
  {
   "cell_type": "code",
   "execution_count": 11,
   "metadata": {
    "id": "4iFYemqd7WHK"
   },
   "outputs": [
    {
     "data": {
      "text/html": [
       "<div>\n",
       "<style scoped>\n",
       "    .dataframe tbody tr th:only-of-type {\n",
       "        vertical-align: middle;\n",
       "    }\n",
       "\n",
       "    .dataframe tbody tr th {\n",
       "        vertical-align: top;\n",
       "    }\n",
       "\n",
       "    .dataframe thead th {\n",
       "        text-align: right;\n",
       "    }\n",
       "</style>\n",
       "<table border=\"1\" class=\"dataframe\">\n",
       "  <thead>\n",
       "    <tr style=\"text-align: right;\">\n",
       "      <th></th>\n",
       "      <th>col_name</th>\n",
       "      <th>percent_missing</th>\n",
       "    </tr>\n",
       "  </thead>\n",
       "  <tbody>\n",
       "    <tr>\n",
       "      <th>language</th>\n",
       "      <td>language</td>\n",
       "      <td>0.077861</td>\n",
       "    </tr>\n",
       "    <tr>\n",
       "      <th>num_critic_for_reviews</th>\n",
       "      <td>num_critic_for_reviews</td>\n",
       "      <td>0.025954</td>\n",
       "    </tr>\n",
       "    <tr>\n",
       "      <th>director_name</th>\n",
       "      <td>director_name</td>\n",
       "      <td>0.000000</td>\n",
       "    </tr>\n",
       "    <tr>\n",
       "      <th>gross</th>\n",
       "      <td>gross</td>\n",
       "      <td>0.000000</td>\n",
       "    </tr>\n",
       "    <tr>\n",
       "      <th>genres</th>\n",
       "      <td>genres</td>\n",
       "      <td>0.000000</td>\n",
       "    </tr>\n",
       "    <tr>\n",
       "      <th>actor_1_name</th>\n",
       "      <td>actor_1_name</td>\n",
       "      <td>0.000000</td>\n",
       "    </tr>\n",
       "    <tr>\n",
       "      <th>movie_title</th>\n",
       "      <td>movie_title</td>\n",
       "      <td>0.000000</td>\n",
       "    </tr>\n",
       "    <tr>\n",
       "      <th>num_voted_users</th>\n",
       "      <td>num_voted_users</td>\n",
       "      <td>0.000000</td>\n",
       "    </tr>\n",
       "    <tr>\n",
       "      <th>num_user_for_reviews</th>\n",
       "      <td>num_user_for_reviews</td>\n",
       "      <td>0.000000</td>\n",
       "    </tr>\n",
       "    <tr>\n",
       "      <th>budget</th>\n",
       "      <td>budget</td>\n",
       "      <td>0.000000</td>\n",
       "    </tr>\n",
       "    <tr>\n",
       "      <th>title_year</th>\n",
       "      <td>title_year</td>\n",
       "      <td>0.000000</td>\n",
       "    </tr>\n",
       "    <tr>\n",
       "      <th>imdb_score</th>\n",
       "      <td>imdb_score</td>\n",
       "      <td>0.000000</td>\n",
       "    </tr>\n",
       "    <tr>\n",
       "      <th>movie_facebook_likes</th>\n",
       "      <td>movie_facebook_likes</td>\n",
       "      <td>0.000000</td>\n",
       "    </tr>\n",
       "  </tbody>\n",
       "</table>\n",
       "</div>"
      ],
      "text/plain": [
       "                                      col_name  percent_missing\n",
       "language                              language         0.077861\n",
       "num_critic_for_reviews  num_critic_for_reviews         0.025954\n",
       "director_name                    director_name         0.000000\n",
       "gross                                    gross         0.000000\n",
       "genres                                  genres         0.000000\n",
       "actor_1_name                      actor_1_name         0.000000\n",
       "movie_title                        movie_title         0.000000\n",
       "num_voted_users                num_voted_users         0.000000\n",
       "num_user_for_reviews      num_user_for_reviews         0.000000\n",
       "budget                                  budget         0.000000\n",
       "title_year                          title_year         0.000000\n",
       "imdb_score                          imdb_score         0.000000\n",
       "movie_facebook_likes      movie_facebook_likes         0.000000"
      ]
     },
     "execution_count": 11,
     "metadata": {},
     "output_type": "execute_result"
    }
   ],
   "source": [
    "## Write your code here\n",
    "df = pd.DataFrame({\n",
    "    'col_name': movies.columns,\n",
    "    'percent_missing': percent_missing\n",
    "})\n",
    "\n",
    "df.sort_values('percent_missing', ascending = False)"
   ]
  },
  {
   "cell_type": "markdown",
   "metadata": {
    "id": "pSYiWL6wuXNe"
   },
   "source": [
    "**Subtask 2.3: Fill NaN values**\n",
    "\n",
    "You might notice that the `language` column has some NaN values. Here, on inspection, you will see that it is safe to replace all the missing values with `'English'`."
   ]
  },
  {
   "cell_type": "code",
   "execution_count": 12,
   "metadata": {
    "id": "oYJvwJYHuXNe"
   },
   "outputs": [],
   "source": [
    "# Write your code for filling the NaN values in the 'language' column here\n",
    "movies['language'].fillna('English', inplace = True)"
   ]
  },
  {
   "cell_type": "markdown",
   "metadata": {
    "id": "XTXHkBPAuXNe"
   },
   "source": [
    "#### <font color='red'>Question 5: What is the count of movies made in English language after replacing the NaN values with English? </font>\n",
    "-  <font color='red'>3670</font>\n",
    "-  <font color='red'>3674</font>\n",
    "-  <font color='red'>3668</font>\n",
    "-  <font color='red'>3672</font>"
   ]
  },
  {
   "cell_type": "code",
   "execution_count": 13,
   "metadata": {
    "id": "Hvmez59y7ZUh"
   },
   "outputs": [
    {
     "name": "stdout",
     "output_type": "stream",
     "text": [
      "3674\n"
     ]
    }
   ],
   "source": [
    "## Write your code here\n",
    "print(movies['language'].value_counts()['English'])"
   ]
  },
  {
   "cell_type": "markdown",
   "metadata": {
    "id": "dhoX0JkUuXNe"
   },
   "source": [
    "### Task 3: Data Analysis\n",
    "\n",
    "**Subtask 3.1: Change the unit of columns**\n",
    "\n",
    "Convert the unit of the `budget` and `gross` columns from `$` to `million $`."
   ]
  },
  {
   "cell_type": "code",
   "execution_count": 14,
   "metadata": {
    "id": "BZRN_vCExjh3"
   },
   "outputs": [],
   "source": [
    "## Write your code here\n",
    "movies['budget'] = movies['budget'] / 1000000\n",
    "movies['gross'] = movies['gross'] / 1000000"
   ]
  },
  {
   "cell_type": "code",
   "execution_count": 15,
   "metadata": {},
   "outputs": [
    {
     "data": {
      "text/html": [
       "<div>\n",
       "<style scoped>\n",
       "    .dataframe tbody tr th:only-of-type {\n",
       "        vertical-align: middle;\n",
       "    }\n",
       "\n",
       "    .dataframe tbody tr th {\n",
       "        vertical-align: top;\n",
       "    }\n",
       "\n",
       "    .dataframe thead th {\n",
       "        text-align: right;\n",
       "    }\n",
       "</style>\n",
       "<table border=\"1\" class=\"dataframe\">\n",
       "  <thead>\n",
       "    <tr style=\"text-align: right;\">\n",
       "      <th></th>\n",
       "      <th>gross</th>\n",
       "      <th>budget</th>\n",
       "    </tr>\n",
       "  </thead>\n",
       "  <tbody>\n",
       "    <tr>\n",
       "      <th>0</th>\n",
       "      <td>760.505847</td>\n",
       "      <td>237.0000</td>\n",
       "    </tr>\n",
       "    <tr>\n",
       "      <th>1</th>\n",
       "      <td>309.404152</td>\n",
       "      <td>300.0000</td>\n",
       "    </tr>\n",
       "    <tr>\n",
       "      <th>2</th>\n",
       "      <td>200.074175</td>\n",
       "      <td>245.0000</td>\n",
       "    </tr>\n",
       "    <tr>\n",
       "      <th>3</th>\n",
       "      <td>448.130642</td>\n",
       "      <td>250.0000</td>\n",
       "    </tr>\n",
       "    <tr>\n",
       "      <th>4</th>\n",
       "      <td>73.058679</td>\n",
       "      <td>263.7000</td>\n",
       "    </tr>\n",
       "    <tr>\n",
       "      <th>...</th>\n",
       "      <td>...</td>\n",
       "      <td>...</td>\n",
       "    </tr>\n",
       "    <tr>\n",
       "      <th>3848</th>\n",
       "      <td>0.424760</td>\n",
       "      <td>0.0070</td>\n",
       "    </tr>\n",
       "    <tr>\n",
       "      <th>3849</th>\n",
       "      <td>0.070071</td>\n",
       "      <td>0.0070</td>\n",
       "    </tr>\n",
       "    <tr>\n",
       "      <th>3850</th>\n",
       "      <td>2.040920</td>\n",
       "      <td>0.0070</td>\n",
       "    </tr>\n",
       "    <tr>\n",
       "      <th>3851</th>\n",
       "      <td>0.004584</td>\n",
       "      <td>0.0090</td>\n",
       "    </tr>\n",
       "    <tr>\n",
       "      <th>3852</th>\n",
       "      <td>0.085222</td>\n",
       "      <td>0.0011</td>\n",
       "    </tr>\n",
       "  </tbody>\n",
       "</table>\n",
       "<p>3853 rows × 2 columns</p>\n",
       "</div>"
      ],
      "text/plain": [
       "           gross    budget\n",
       "0     760.505847  237.0000\n",
       "1     309.404152  300.0000\n",
       "2     200.074175  245.0000\n",
       "3     448.130642  250.0000\n",
       "4      73.058679  263.7000\n",
       "...          ...       ...\n",
       "3848    0.424760    0.0070\n",
       "3849    0.070071    0.0070\n",
       "3850    2.040920    0.0070\n",
       "3851    0.004584    0.0090\n",
       "3852    0.085222    0.0011\n",
       "\n",
       "[3853 rows x 2 columns]"
      ]
     },
     "execution_count": 15,
     "metadata": {},
     "output_type": "execute_result"
    }
   ],
   "source": [
    "movies[['gross', 'budget']]"
   ]
  },
  {
   "cell_type": "markdown",
   "metadata": {
    "id": "MW4JXtctuXNe"
   },
   "source": [
    "**Subtask 3.2: Find the movies with highest profit**\n",
    "\n",
    "   1. Create a new column called `profit` which contains the difference of the two columns: `gross` and `budget`.\n",
    "   2. Sort the dataframe using the `profit` column as reference. (Find which command can be used here to sort entries from the documentation)\n",
    "   3. Extract the top ten profiting movies in descending order and store them in a new dataframe - `top10`"
   ]
  },
  {
   "cell_type": "code",
   "execution_count": 16,
   "metadata": {
    "id": "jwnaN6LUuXNe"
   },
   "outputs": [],
   "source": [
    "# Write your code for creating the profit column here\n",
    "movies['profit'] = movies['gross'] - movies['budget']"
   ]
  },
  {
   "cell_type": "code",
   "execution_count": 17,
   "metadata": {
    "id": "s8kD6Z05uXNf"
   },
   "outputs": [],
   "source": [
    "# Write your code for sorting the dataframe here\n",
    "movies.sort_values('profit', ascending = False, inplace = True)"
   ]
  },
  {
   "cell_type": "code",
   "execution_count": 18,
   "metadata": {
    "id": "hn-BKgJVuXNf"
   },
   "outputs": [
    {
     "data": {
      "text/html": [
       "<div>\n",
       "<style scoped>\n",
       "    .dataframe tbody tr th:only-of-type {\n",
       "        vertical-align: middle;\n",
       "    }\n",
       "\n",
       "    .dataframe tbody tr th {\n",
       "        vertical-align: top;\n",
       "    }\n",
       "\n",
       "    .dataframe thead th {\n",
       "        text-align: right;\n",
       "    }\n",
       "</style>\n",
       "<table border=\"1\" class=\"dataframe\">\n",
       "  <thead>\n",
       "    <tr style=\"text-align: right;\">\n",
       "      <th></th>\n",
       "      <th>director_name</th>\n",
       "      <th>num_critic_for_reviews</th>\n",
       "      <th>gross</th>\n",
       "      <th>genres</th>\n",
       "      <th>actor_1_name</th>\n",
       "      <th>movie_title</th>\n",
       "      <th>num_voted_users</th>\n",
       "      <th>num_user_for_reviews</th>\n",
       "      <th>language</th>\n",
       "      <th>budget</th>\n",
       "      <th>title_year</th>\n",
       "      <th>imdb_score</th>\n",
       "      <th>movie_facebook_likes</th>\n",
       "      <th>profit</th>\n",
       "    </tr>\n",
       "  </thead>\n",
       "  <tbody>\n",
       "    <tr>\n",
       "      <th>0</th>\n",
       "      <td>James Cameron</td>\n",
       "      <td>723.0</td>\n",
       "      <td>760.505847</td>\n",
       "      <td>Action|Adventure|Fantasy|Sci-Fi</td>\n",
       "      <td>CCH Pounder</td>\n",
       "      <td>Avatar</td>\n",
       "      <td>886204</td>\n",
       "      <td>3054.0</td>\n",
       "      <td>English</td>\n",
       "      <td>237.0</td>\n",
       "      <td>2009.0</td>\n",
       "      <td>7.9</td>\n",
       "      <td>33000</td>\n",
       "      <td>523.505847</td>\n",
       "    </tr>\n",
       "    <tr>\n",
       "      <th>28</th>\n",
       "      <td>Colin Trevorrow</td>\n",
       "      <td>644.0</td>\n",
       "      <td>652.177271</td>\n",
       "      <td>Action|Adventure|Sci-Fi|Thriller</td>\n",
       "      <td>Bryce Dallas Howard</td>\n",
       "      <td>Jurassic World</td>\n",
       "      <td>418214</td>\n",
       "      <td>1290.0</td>\n",
       "      <td>English</td>\n",
       "      <td>150.0</td>\n",
       "      <td>2015.0</td>\n",
       "      <td>7.0</td>\n",
       "      <td>150000</td>\n",
       "      <td>502.177271</td>\n",
       "    </tr>\n",
       "    <tr>\n",
       "      <th>25</th>\n",
       "      <td>James Cameron</td>\n",
       "      <td>315.0</td>\n",
       "      <td>658.672302</td>\n",
       "      <td>Drama|Romance</td>\n",
       "      <td>Leonardo DiCaprio</td>\n",
       "      <td>Titanic</td>\n",
       "      <td>793059</td>\n",
       "      <td>2528.0</td>\n",
       "      <td>English</td>\n",
       "      <td>200.0</td>\n",
       "      <td>1997.0</td>\n",
       "      <td>7.7</td>\n",
       "      <td>26000</td>\n",
       "      <td>458.672302</td>\n",
       "    </tr>\n",
       "    <tr>\n",
       "      <th>2704</th>\n",
       "      <td>George Lucas</td>\n",
       "      <td>282.0</td>\n",
       "      <td>460.935665</td>\n",
       "      <td>Action|Adventure|Fantasy|Sci-Fi</td>\n",
       "      <td>Harrison Ford</td>\n",
       "      <td>Star Wars: Episode IV - A New Hope</td>\n",
       "      <td>911097</td>\n",
       "      <td>1470.0</td>\n",
       "      <td>English</td>\n",
       "      <td>11.0</td>\n",
       "      <td>1977.0</td>\n",
       "      <td>8.7</td>\n",
       "      <td>33000</td>\n",
       "      <td>449.935665</td>\n",
       "    </tr>\n",
       "    <tr>\n",
       "      <th>2748</th>\n",
       "      <td>Steven Spielberg</td>\n",
       "      <td>215.0</td>\n",
       "      <td>434.949459</td>\n",
       "      <td>Family|Sci-Fi</td>\n",
       "      <td>Henry Thomas</td>\n",
       "      <td>E.T. the Extra-Terrestrial</td>\n",
       "      <td>281842</td>\n",
       "      <td>515.0</td>\n",
       "      <td>English</td>\n",
       "      <td>10.5</td>\n",
       "      <td>1982.0</td>\n",
       "      <td>7.9</td>\n",
       "      <td>34000</td>\n",
       "      <td>424.449459</td>\n",
       "    </tr>\n",
       "    <tr>\n",
       "      <th>16</th>\n",
       "      <td>Joss Whedon</td>\n",
       "      <td>703.0</td>\n",
       "      <td>623.279547</td>\n",
       "      <td>Action|Adventure|Sci-Fi</td>\n",
       "      <td>Chris Hemsworth</td>\n",
       "      <td>The Avengers</td>\n",
       "      <td>995415</td>\n",
       "      <td>1722.0</td>\n",
       "      <td>English</td>\n",
       "      <td>220.0</td>\n",
       "      <td>2012.0</td>\n",
       "      <td>8.1</td>\n",
       "      <td>123000</td>\n",
       "      <td>403.279547</td>\n",
       "    </tr>\n",
       "    <tr>\n",
       "      <th>482</th>\n",
       "      <td>Roger Allers</td>\n",
       "      <td>186.0</td>\n",
       "      <td>422.783777</td>\n",
       "      <td>Adventure|Animation|Drama|Family|Musical</td>\n",
       "      <td>Matthew Broderick</td>\n",
       "      <td>The Lion King</td>\n",
       "      <td>644348</td>\n",
       "      <td>656.0</td>\n",
       "      <td>English</td>\n",
       "      <td>45.0</td>\n",
       "      <td>1994.0</td>\n",
       "      <td>8.5</td>\n",
       "      <td>17000</td>\n",
       "      <td>377.783777</td>\n",
       "    </tr>\n",
       "    <tr>\n",
       "      <th>230</th>\n",
       "      <td>George Lucas</td>\n",
       "      <td>320.0</td>\n",
       "      <td>474.544677</td>\n",
       "      <td>Action|Adventure|Fantasy|Sci-Fi</td>\n",
       "      <td>Natalie Portman</td>\n",
       "      <td>Star Wars: Episode I - The Phantom Menace</td>\n",
       "      <td>534658</td>\n",
       "      <td>3597.0</td>\n",
       "      <td>English</td>\n",
       "      <td>115.0</td>\n",
       "      <td>1999.0</td>\n",
       "      <td>6.5</td>\n",
       "      <td>13000</td>\n",
       "      <td>359.544677</td>\n",
       "    </tr>\n",
       "    <tr>\n",
       "      <th>64</th>\n",
       "      <td>Christopher Nolan</td>\n",
       "      <td>645.0</td>\n",
       "      <td>533.316061</td>\n",
       "      <td>Action|Crime|Drama|Thriller</td>\n",
       "      <td>Christian Bale</td>\n",
       "      <td>The Dark Knight</td>\n",
       "      <td>1676169</td>\n",
       "      <td>4667.0</td>\n",
       "      <td>English</td>\n",
       "      <td>185.0</td>\n",
       "      <td>2008.0</td>\n",
       "      <td>9.0</td>\n",
       "      <td>37000</td>\n",
       "      <td>348.316061</td>\n",
       "    </tr>\n",
       "    <tr>\n",
       "      <th>419</th>\n",
       "      <td>Gary Ross</td>\n",
       "      <td>673.0</td>\n",
       "      <td>407.999255</td>\n",
       "      <td>Adventure|Drama|Sci-Fi|Thriller</td>\n",
       "      <td>Jennifer Lawrence</td>\n",
       "      <td>The Hunger Games</td>\n",
       "      <td>701607</td>\n",
       "      <td>1959.0</td>\n",
       "      <td>English</td>\n",
       "      <td>78.0</td>\n",
       "      <td>2012.0</td>\n",
       "      <td>7.3</td>\n",
       "      <td>140000</td>\n",
       "      <td>329.999255</td>\n",
       "    </tr>\n",
       "  </tbody>\n",
       "</table>\n",
       "</div>"
      ],
      "text/plain": [
       "          director_name  num_critic_for_reviews       gross  \\\n",
       "0         James Cameron                   723.0  760.505847   \n",
       "28      Colin Trevorrow                   644.0  652.177271   \n",
       "25        James Cameron                   315.0  658.672302   \n",
       "2704       George Lucas                   282.0  460.935665   \n",
       "2748   Steven Spielberg                   215.0  434.949459   \n",
       "16          Joss Whedon                   703.0  623.279547   \n",
       "482        Roger Allers                   186.0  422.783777   \n",
       "230        George Lucas                   320.0  474.544677   \n",
       "64    Christopher Nolan                   645.0  533.316061   \n",
       "419           Gary Ross                   673.0  407.999255   \n",
       "\n",
       "                                        genres         actor_1_name  \\\n",
       "0              Action|Adventure|Fantasy|Sci-Fi          CCH Pounder   \n",
       "28            Action|Adventure|Sci-Fi|Thriller  Bryce Dallas Howard   \n",
       "25                               Drama|Romance    Leonardo DiCaprio   \n",
       "2704           Action|Adventure|Fantasy|Sci-Fi        Harrison Ford   \n",
       "2748                             Family|Sci-Fi         Henry Thomas   \n",
       "16                     Action|Adventure|Sci-Fi      Chris Hemsworth   \n",
       "482   Adventure|Animation|Drama|Family|Musical    Matthew Broderick   \n",
       "230            Action|Adventure|Fantasy|Sci-Fi      Natalie Portman   \n",
       "64                 Action|Crime|Drama|Thriller       Christian Bale   \n",
       "419            Adventure|Drama|Sci-Fi|Thriller    Jennifer Lawrence   \n",
       "\n",
       "                                     movie_title  num_voted_users  \\\n",
       "0                                        Avatar            886204   \n",
       "28                               Jurassic World            418214   \n",
       "25                                      Titanic            793059   \n",
       "2704         Star Wars: Episode IV - A New Hope            911097   \n",
       "2748                 E.T. the Extra-Terrestrial            281842   \n",
       "16                                 The Avengers            995415   \n",
       "482                               The Lion King            644348   \n",
       "230   Star Wars: Episode I - The Phantom Menace            534658   \n",
       "64                              The Dark Knight           1676169   \n",
       "419                            The Hunger Games            701607   \n",
       "\n",
       "      num_user_for_reviews language  budget  title_year  imdb_score  \\\n",
       "0                   3054.0  English   237.0      2009.0         7.9   \n",
       "28                  1290.0  English   150.0      2015.0         7.0   \n",
       "25                  2528.0  English   200.0      1997.0         7.7   \n",
       "2704                1470.0  English    11.0      1977.0         8.7   \n",
       "2748                 515.0  English    10.5      1982.0         7.9   \n",
       "16                  1722.0  English   220.0      2012.0         8.1   \n",
       "482                  656.0  English    45.0      1994.0         8.5   \n",
       "230                 3597.0  English   115.0      1999.0         6.5   \n",
       "64                  4667.0  English   185.0      2008.0         9.0   \n",
       "419                 1959.0  English    78.0      2012.0         7.3   \n",
       "\n",
       "      movie_facebook_likes      profit  \n",
       "0                    33000  523.505847  \n",
       "28                  150000  502.177271  \n",
       "25                   26000  458.672302  \n",
       "2704                 33000  449.935665  \n",
       "2748                 34000  424.449459  \n",
       "16                  123000  403.279547  \n",
       "482                  17000  377.783777  \n",
       "230                  13000  359.544677  \n",
       "64                   37000  348.316061  \n",
       "419                 140000  329.999255  "
      ]
     },
     "execution_count": 18,
     "metadata": {},
     "output_type": "execute_result"
    }
   ],
   "source": [
    "#top10 = # Write your code to get the top 10 profiting movies here\n",
    "movies.head(10)"
   ]
  },
  {
   "cell_type": "markdown",
   "metadata": {
    "id": "DPBSf9wquXNf"
   },
   "source": [
    "**Checkpoint:** You might spot two movies directed by `James Cameron` in the list."
   ]
  },
  {
   "cell_type": "markdown",
   "metadata": {
    "id": "_Yx2RWzXuXNf"
   },
   "source": [
    "#### <font color='red'>Question 6: Which movie is ranked 5th from the top in the list obtained? </font>\n",
    "-  <font color='red'>E.T. the Extra-Terrestrial</font>\n",
    "-  <font color='red'>The Avengers</font>\n",
    "-  <font color='red'>The Dark Knight</font>\n",
    "-  <font color='red'>Titanic</font>"
   ]
  },
  {
   "cell_type": "code",
   "execution_count": 19,
   "metadata": {
    "id": "W9OcDHrs7iHh"
   },
   "outputs": [
    {
     "data": {
      "text/plain": [
       "director_name                        Steven Spielberg\n",
       "num_critic_for_reviews                          215.0\n",
       "gross                                      434.949459\n",
       "genres                                  Family|Sci-Fi\n",
       "actor_1_name                             Henry Thomas\n",
       "movie_title               E.T. the Extra-Terrestrial \n",
       "num_voted_users                                281842\n",
       "num_user_for_reviews                            515.0\n",
       "language                                      English\n",
       "budget                                           10.5\n",
       "title_year                                     1982.0\n",
       "imdb_score                                        7.9\n",
       "movie_facebook_likes                            34000\n",
       "profit                                     424.449459\n",
       "Name: 2748, dtype: object"
      ]
     },
     "execution_count": 19,
     "metadata": {},
     "output_type": "execute_result"
    }
   ],
   "source": [
    "## Write your code here\n",
    "movies.iloc[4]"
   ]
  },
  {
   "cell_type": "markdown",
   "metadata": {
    "id": "WM1YYRqouXNf"
   },
   "source": [
    "**Subtask 3.3: Find IMDb Top 200**\n",
    "\n",
    "Create a new dataframe `IMDb_Top_200` and store the top 200 movies with the highest IMDb Rating (corresponding to the column: `imdb_score`). Also make sure that for all of these movies, the `num_voted_users` is greater than 25,000. \n",
    "\n",
    "Also add a `Rank` column containing the values 1 to 200 indicating the ranks of the corresponding films."
   ]
  },
  {
   "cell_type": "code",
   "execution_count": 20,
   "metadata": {
    "id": "tk75lwniuXNf"
   },
   "outputs": [],
   "source": [
    "# Write your code for extracting the top 200 movies as per the IMDb score here. Make sure that you store it in a new dataframe \n",
    "# and name that dataframe as 'IMDb_Top_200'\n",
    "IMDb_Top_200 = movies[movies.num_voted_users > 25000]\n",
    "IMDb_Top_200 = IMDb_Top_200.sort_values('imdb_score', ascending = False)\n",
    "IMDb_Top_200 = IMDb_Top_200.head(200)"
   ]
  },
  {
   "cell_type": "code",
   "execution_count": 43,
   "metadata": {},
   "outputs": [
    {
     "data": {
      "text/plain": [
       "(200, 16)"
      ]
     },
     "execution_count": 43,
     "metadata": {},
     "output_type": "execute_result"
    }
   ],
   "source": [
    "IMDb_Top_200.shape"
   ]
  },
  {
   "cell_type": "code",
   "execution_count": 44,
   "metadata": {},
   "outputs": [],
   "source": [
    "IMDb_Top_200['Rank'] = IMDb_Top_200['imdb_score'].rank()"
   ]
  },
  {
   "cell_type": "code",
   "execution_count": 45,
   "metadata": {},
   "outputs": [
    {
     "data": {
      "text/html": [
       "<div>\n",
       "<style scoped>\n",
       "    .dataframe tbody tr th:only-of-type {\n",
       "        vertical-align: middle;\n",
       "    }\n",
       "\n",
       "    .dataframe tbody tr th {\n",
       "        vertical-align: top;\n",
       "    }\n",
       "\n",
       "    .dataframe thead th {\n",
       "        text-align: right;\n",
       "    }\n",
       "</style>\n",
       "<table border=\"1\" class=\"dataframe\">\n",
       "  <thead>\n",
       "    <tr style=\"text-align: right;\">\n",
       "      <th></th>\n",
       "      <th>director_name</th>\n",
       "      <th>num_critic_for_reviews</th>\n",
       "      <th>gross</th>\n",
       "      <th>genres</th>\n",
       "      <th>actor_1_name</th>\n",
       "      <th>movie_title</th>\n",
       "      <th>num_voted_users</th>\n",
       "      <th>num_user_for_reviews</th>\n",
       "      <th>language</th>\n",
       "      <th>budget</th>\n",
       "      <th>title_year</th>\n",
       "      <th>imdb_score</th>\n",
       "      <th>movie_facebook_likes</th>\n",
       "      <th>profit</th>\n",
       "      <th>Rank</th>\n",
       "      <th>category_rating</th>\n",
       "    </tr>\n",
       "  </thead>\n",
       "  <tbody>\n",
       "    <tr>\n",
       "      <th>1795</th>\n",
       "      <td>Frank Darabont</td>\n",
       "      <td>199.0</td>\n",
       "      <td>28.341469</td>\n",
       "      <td>Crime|Drama</td>\n",
       "      <td>Morgan Freeman</td>\n",
       "      <td>The Shawshank Redemption</td>\n",
       "      <td>1689764</td>\n",
       "      <td>4144.0</td>\n",
       "      <td>English</td>\n",
       "      <td>25.0</td>\n",
       "      <td>1994.0</td>\n",
       "      <td>9.3</td>\n",
       "      <td>108000</td>\n",
       "      <td>3.341469</td>\n",
       "      <td>200.0</td>\n",
       "      <td>9 to 9.5</td>\n",
       "    </tr>\n",
       "    <tr>\n",
       "      <th>3016</th>\n",
       "      <td>Francis Ford Coppola</td>\n",
       "      <td>208.0</td>\n",
       "      <td>134.821952</td>\n",
       "      <td>Crime|Drama</td>\n",
       "      <td>Al Pacino</td>\n",
       "      <td>The Godfather</td>\n",
       "      <td>1155770</td>\n",
       "      <td>2238.0</td>\n",
       "      <td>English</td>\n",
       "      <td>6.0</td>\n",
       "      <td>1972.0</td>\n",
       "      <td>9.2</td>\n",
       "      <td>43000</td>\n",
       "      <td>128.821952</td>\n",
       "      <td>199.0</td>\n",
       "      <td>9 to 9.5</td>\n",
       "    </tr>\n",
       "    <tr>\n",
       "      <th>2543</th>\n",
       "      <td>Francis Ford Coppola</td>\n",
       "      <td>149.0</td>\n",
       "      <td>57.300000</td>\n",
       "      <td>Crime|Drama</td>\n",
       "      <td>Robert De Niro</td>\n",
       "      <td>The Godfather: Part II</td>\n",
       "      <td>790926</td>\n",
       "      <td>650.0</td>\n",
       "      <td>English</td>\n",
       "      <td>13.0</td>\n",
       "      <td>1974.0</td>\n",
       "      <td>9.0</td>\n",
       "      <td>14000</td>\n",
       "      <td>44.300000</td>\n",
       "      <td>197.5</td>\n",
       "      <td>9 to 9.5</td>\n",
       "    </tr>\n",
       "    <tr>\n",
       "      <th>64</th>\n",
       "      <td>Christopher Nolan</td>\n",
       "      <td>645.0</td>\n",
       "      <td>533.316061</td>\n",
       "      <td>Action|Crime|Drama|Thriller</td>\n",
       "      <td>Christian Bale</td>\n",
       "      <td>The Dark Knight</td>\n",
       "      <td>1676169</td>\n",
       "      <td>4667.0</td>\n",
       "      <td>English</td>\n",
       "      <td>185.0</td>\n",
       "      <td>2008.0</td>\n",
       "      <td>9.0</td>\n",
       "      <td>37000</td>\n",
       "      <td>348.316061</td>\n",
       "      <td>197.5</td>\n",
       "      <td>9 to 9.5</td>\n",
       "    </tr>\n",
       "    <tr>\n",
       "      <th>325</th>\n",
       "      <td>Peter Jackson</td>\n",
       "      <td>328.0</td>\n",
       "      <td>377.019252</td>\n",
       "      <td>Action|Adventure|Drama|Fantasy</td>\n",
       "      <td>Orlando Bloom</td>\n",
       "      <td>The Lord of the Rings: The Return of the King</td>\n",
       "      <td>1215718</td>\n",
       "      <td>3189.0</td>\n",
       "      <td>English</td>\n",
       "      <td>94.0</td>\n",
       "      <td>2003.0</td>\n",
       "      <td>8.9</td>\n",
       "      <td>16000</td>\n",
       "      <td>283.019252</td>\n",
       "      <td>194.5</td>\n",
       "      <td>8.5 to 9</td>\n",
       "    </tr>\n",
       "    <tr>\n",
       "      <th>...</th>\n",
       "      <td>...</td>\n",
       "      <td>...</td>\n",
       "      <td>...</td>\n",
       "      <td>...</td>\n",
       "      <td>...</td>\n",
       "      <td>...</td>\n",
       "      <td>...</td>\n",
       "      <td>...</td>\n",
       "      <td>...</td>\n",
       "      <td>...</td>\n",
       "      <td>...</td>\n",
       "      <td>...</td>\n",
       "      <td>...</td>\n",
       "      <td>...</td>\n",
       "      <td>...</td>\n",
       "      <td>...</td>\n",
       "    </tr>\n",
       "    <tr>\n",
       "      <th>3196</th>\n",
       "      <td>Jean-Marc Vallée</td>\n",
       "      <td>471.0</td>\n",
       "      <td>27.296514</td>\n",
       "      <td>Biography|Drama</td>\n",
       "      <td>Matthew McConaughey</td>\n",
       "      <td>Dallas Buyers Club</td>\n",
       "      <td>326494</td>\n",
       "      <td>340.0</td>\n",
       "      <td>English</td>\n",
       "      <td>5.0</td>\n",
       "      <td>2013.0</td>\n",
       "      <td>8.0</td>\n",
       "      <td>65000</td>\n",
       "      <td>22.296514</td>\n",
       "      <td>24.5</td>\n",
       "      <td>8 to 8.5</td>\n",
       "    </tr>\n",
       "    <tr>\n",
       "      <th>1900</th>\n",
       "      <td>Spike Jonze</td>\n",
       "      <td>574.0</td>\n",
       "      <td>25.556065</td>\n",
       "      <td>Drama|Romance|Sci-Fi</td>\n",
       "      <td>Scarlett Johansson</td>\n",
       "      <td>Her</td>\n",
       "      <td>355126</td>\n",
       "      <td>748.0</td>\n",
       "      <td>English</td>\n",
       "      <td>23.0</td>\n",
       "      <td>2013.0</td>\n",
       "      <td>8.0</td>\n",
       "      <td>148000</td>\n",
       "      <td>2.556065</td>\n",
       "      <td>24.5</td>\n",
       "      <td>8 to 8.5</td>\n",
       "    </tr>\n",
       "    <tr>\n",
       "      <th>335</th>\n",
       "      <td>Brad Bird</td>\n",
       "      <td>283.0</td>\n",
       "      <td>261.437578</td>\n",
       "      <td>Action|Adventure|Animation|Family</td>\n",
       "      <td>Holly Hunter</td>\n",
       "      <td>The Incredibles</td>\n",
       "      <td>479166</td>\n",
       "      <td>815.0</td>\n",
       "      <td>English</td>\n",
       "      <td>92.0</td>\n",
       "      <td>2004.0</td>\n",
       "      <td>8.0</td>\n",
       "      <td>0</td>\n",
       "      <td>169.437578</td>\n",
       "      <td>24.5</td>\n",
       "      <td>8 to 8.5</td>\n",
       "    </tr>\n",
       "    <tr>\n",
       "      <th>2488</th>\n",
       "      <td>Danny Boyle</td>\n",
       "      <td>418.0</td>\n",
       "      <td>141.319195</td>\n",
       "      <td>Drama|Romance</td>\n",
       "      <td>Anil Kapoor</td>\n",
       "      <td>Slumdog Millionaire</td>\n",
       "      <td>641997</td>\n",
       "      <td>1017.0</td>\n",
       "      <td>English</td>\n",
       "      <td>15.0</td>\n",
       "      <td>2008.0</td>\n",
       "      <td>8.0</td>\n",
       "      <td>13000</td>\n",
       "      <td>126.319195</td>\n",
       "      <td>24.5</td>\n",
       "      <td>8 to 8.5</td>\n",
       "    </tr>\n",
       "    <tr>\n",
       "      <th>3437</th>\n",
       "      <td>Walter Salles</td>\n",
       "      <td>71.0</td>\n",
       "      <td>5.595428</td>\n",
       "      <td>Drama</td>\n",
       "      <td>Fernanda Montenegro</td>\n",
       "      <td>Central Station</td>\n",
       "      <td>28951</td>\n",
       "      <td>257.0</td>\n",
       "      <td>Portuguese</td>\n",
       "      <td>2.9</td>\n",
       "      <td>1998.0</td>\n",
       "      <td>8.0</td>\n",
       "      <td>0</td>\n",
       "      <td>2.695428</td>\n",
       "      <td>24.5</td>\n",
       "      <td>8 to 8.5</td>\n",
       "    </tr>\n",
       "  </tbody>\n",
       "</table>\n",
       "<p>200 rows × 16 columns</p>\n",
       "</div>"
      ],
      "text/plain": [
       "             director_name  num_critic_for_reviews       gross  \\\n",
       "1795        Frank Darabont                   199.0   28.341469   \n",
       "3016  Francis Ford Coppola                   208.0  134.821952   \n",
       "2543  Francis Ford Coppola                   149.0   57.300000   \n",
       "64       Christopher Nolan                   645.0  533.316061   \n",
       "325          Peter Jackson                   328.0  377.019252   \n",
       "...                    ...                     ...         ...   \n",
       "3196      Jean-Marc Vallée                   471.0   27.296514   \n",
       "1900           Spike Jonze                   574.0   25.556065   \n",
       "335              Brad Bird                   283.0  261.437578   \n",
       "2488           Danny Boyle                   418.0  141.319195   \n",
       "3437         Walter Salles                    71.0    5.595428   \n",
       "\n",
       "                                 genres         actor_1_name  \\\n",
       "1795                        Crime|Drama       Morgan Freeman   \n",
       "3016                        Crime|Drama            Al Pacino   \n",
       "2543                        Crime|Drama       Robert De Niro   \n",
       "64          Action|Crime|Drama|Thriller       Christian Bale   \n",
       "325      Action|Adventure|Drama|Fantasy        Orlando Bloom   \n",
       "...                                 ...                  ...   \n",
       "3196                    Biography|Drama  Matthew McConaughey   \n",
       "1900               Drama|Romance|Sci-Fi   Scarlett Johansson   \n",
       "335   Action|Adventure|Animation|Family         Holly Hunter   \n",
       "2488                      Drama|Romance          Anil Kapoor   \n",
       "3437                              Drama  Fernanda Montenegro   \n",
       "\n",
       "                                         movie_title  num_voted_users  \\\n",
       "1795                       The Shawshank Redemption           1689764   \n",
       "3016                                  The Godfather           1155770   \n",
       "2543                         The Godfather: Part II            790926   \n",
       "64                                  The Dark Knight           1676169   \n",
       "325   The Lord of the Rings: The Return of the King           1215718   \n",
       "...                                              ...              ...   \n",
       "3196                             Dallas Buyers Club            326494   \n",
       "1900                                            Her            355126   \n",
       "335                                 The Incredibles            479166   \n",
       "2488                            Slumdog Millionaire            641997   \n",
       "3437                                Central Station             28951   \n",
       "\n",
       "      num_user_for_reviews    language  budget  title_year  imdb_score  \\\n",
       "1795                4144.0     English    25.0      1994.0         9.3   \n",
       "3016                2238.0     English     6.0      1972.0         9.2   \n",
       "2543                 650.0     English    13.0      1974.0         9.0   \n",
       "64                  4667.0     English   185.0      2008.0         9.0   \n",
       "325                 3189.0     English    94.0      2003.0         8.9   \n",
       "...                    ...         ...     ...         ...         ...   \n",
       "3196                 340.0     English     5.0      2013.0         8.0   \n",
       "1900                 748.0     English    23.0      2013.0         8.0   \n",
       "335                  815.0     English    92.0      2004.0         8.0   \n",
       "2488                1017.0     English    15.0      2008.0         8.0   \n",
       "3437                 257.0  Portuguese     2.9      1998.0         8.0   \n",
       "\n",
       "      movie_facebook_likes      profit   Rank category_rating  \n",
       "1795                108000    3.341469  200.0        9 to 9.5  \n",
       "3016                 43000  128.821952  199.0        9 to 9.5  \n",
       "2543                 14000   44.300000  197.5        9 to 9.5  \n",
       "64                   37000  348.316061  197.5        9 to 9.5  \n",
       "325                  16000  283.019252  194.5        8.5 to 9  \n",
       "...                    ...         ...    ...             ...  \n",
       "3196                 65000   22.296514   24.5        8 to 8.5  \n",
       "1900                148000    2.556065   24.5        8 to 8.5  \n",
       "335                      0  169.437578   24.5        8 to 8.5  \n",
       "2488                 13000  126.319195   24.5        8 to 8.5  \n",
       "3437                     0    2.695428   24.5        8 to 8.5  \n",
       "\n",
       "[200 rows x 16 columns]"
      ]
     },
     "execution_count": 45,
     "metadata": {},
     "output_type": "execute_result"
    }
   ],
   "source": [
    "IMDb_Top_200.sort_values('Rank', ascending = False, inplace = True)\n",
    "IMDb_Top_200"
   ]
  },
  {
   "cell_type": "markdown",
   "metadata": {
    "id": "7suOCBbOuXNf"
   },
   "source": [
    "#### <font color='red'>Question 7: Suppose movies are divided into 5 buckets based on the IMDb ratings: </font>\n",
    "-  <font color='red'>7.5 to 8</font>\n",
    "-  <font color='red'>8 to 8.5</font>\n",
    "-  <font color='red'>8.5 to 9</font>\n",
    "-  <font color='red'>9 to 9.5</font>\n",
    "-  <font color='red'>9.5 to 10</font>\n",
    "\n",
    "<font color = 'red'> Which bucket holds the maximum number of movies from *IMDb_Top_200*? </font>"
   ]
  },
  {
   "cell_type": "code",
   "execution_count": 40,
   "metadata": {
    "id": "miw5Y3Dd7v_1"
   },
   "outputs": [],
   "source": [
    "## Write your code here\n",
    "def get_imdb_rating(rating):\n",
    "    if rating >= 7.5 and rating < 8:\n",
    "        return '7.5 to 8'\n",
    "    elif rating >= 8 and rating < 8.5:\n",
    "        return '8 to 8.5'\n",
    "    elif rating >= 8.5 and rating < 9:\n",
    "        return '8.5 to 9'\n",
    "    elif rating >= 9 and rating < 9.5:\n",
    "        return '9 to 9.5'\n",
    "    else:\n",
    "        return '9.5 to 10'"
   ]
  },
  {
   "cell_type": "code",
   "execution_count": 41,
   "metadata": {},
   "outputs": [],
   "source": [
    "IMDb_Top_200['category_rating'] = IMDb_Top_200['imdb_score'].apply(get_imdb_rating)"
   ]
  },
  {
   "cell_type": "code",
   "execution_count": 42,
   "metadata": {},
   "outputs": [
    {
     "data": {
      "text/plain": [
       "8 to 8.5    154\n",
       "8.5 to 9     42\n",
       "9 to 9.5      4\n",
       "Name: category_rating, dtype: int64"
      ]
     },
     "execution_count": 42,
     "metadata": {},
     "output_type": "execute_result"
    }
   ],
   "source": [
    "test = IMDb_Top_200['category_rating'].value_counts()\n",
    "test"
   ]
  },
  {
   "cell_type": "markdown",
   "metadata": {
    "id": "aZ-GePIjuXNg"
   },
   "source": [
    "**Subtask 3.4: Find the critic-favorite and audience-favorite actors**\n",
    "\n",
    "   1. Create three new dataframes namely, `Meryl_Streep`, `Leo_Caprio`, and `Brad_Pitt` which contain the movies in which the actors: 'Meryl Streep', 'Leonardo DiCaprio', and 'Brad Pitt' are the lead actors. Use only the `actor_1_name` column for extraction. Also, make sure that you use the names 'Meryl Streep', 'Leonardo DiCaprio', and 'Brad Pitt' for the said extraction.\n",
    "   2. Append the rows of all these dataframes and store them in a new dataframe named `Combined`.\n",
    "   3. Group the combined dataframe using the `actor_1_name` column.\n",
    "   4. Find the mean of the `num_critic_for_reviews` and `num_user_for_review` and identify the actors which have the highest mean."
   ]
  },
  {
   "cell_type": "code",
   "execution_count": 27,
   "metadata": {
    "id": "VI1_flNMuXNg"
   },
   "outputs": [
    {
     "data": {
      "text/plain": [
       "(11, 14)"
      ]
     },
     "execution_count": 27,
     "metadata": {},
     "output_type": "execute_result"
    }
   ],
   "source": [
    "# Write your code for creating three new dataframes here\n",
    "#Meryl_Streep = # Include all movies in which Meryl_Streep is the lead\n",
    "Meryl_Streep = movies[movies.actor_1_name == 'Meryl Streep']\n",
    "Meryl_Streep.shape"
   ]
  },
  {
   "cell_type": "code",
   "execution_count": 28,
   "metadata": {
    "id": "Eq19yxKzuXNg"
   },
   "outputs": [
    {
     "data": {
      "text/plain": [
       "(21, 14)"
      ]
     },
     "execution_count": 28,
     "metadata": {},
     "output_type": "execute_result"
    }
   ],
   "source": [
    "#Leo_Caprio = # Include all movies in which Leo_Caprio is the lead\n",
    "Leo_Caprio = movies[movies.actor_1_name == 'Leonardo DiCaprio']\n",
    "Leo_Caprio.shape"
   ]
  },
  {
   "cell_type": "code",
   "execution_count": 29,
   "metadata": {
    "id": "C7qh15zFuXNg"
   },
   "outputs": [
    {
     "data": {
      "text/plain": [
       "(17, 14)"
      ]
     },
     "execution_count": 29,
     "metadata": {},
     "output_type": "execute_result"
    }
   ],
   "source": [
    "#Brad_Pitt = # Include all movies in which Brad_Pitt is the lead\n",
    "Brad_Pitt = movies[movies.actor_1_name == 'Brad Pitt']\n",
    "Brad_Pitt.shape"
   ]
  },
  {
   "cell_type": "code",
   "execution_count": 30,
   "metadata": {
    "id": "XQCrFusHuXNg"
   },
   "outputs": [
    {
     "data": {
      "text/plain": [
       "(49, 14)"
      ]
     },
     "execution_count": 30,
     "metadata": {},
     "output_type": "execute_result"
    }
   ],
   "source": [
    "# Write your code for combining the three dataframes here\n",
    "# Combined = \n",
    "Combined = pd.concat([Meryl_Streep, Leo_Caprio, Brad_Pitt])\n",
    "Combined.shape"
   ]
  },
  {
   "cell_type": "code",
   "execution_count": 31,
   "metadata": {
    "id": "ImG-ywC1uXNg"
   },
   "outputs": [
    {
     "data": {
      "text/html": [
       "<div>\n",
       "<style scoped>\n",
       "    .dataframe tbody tr th:only-of-type {\n",
       "        vertical-align: middle;\n",
       "    }\n",
       "\n",
       "    .dataframe tbody tr th {\n",
       "        vertical-align: top;\n",
       "    }\n",
       "\n",
       "    .dataframe thead th {\n",
       "        text-align: right;\n",
       "    }\n",
       "</style>\n",
       "<table border=\"1\" class=\"dataframe\">\n",
       "  <thead>\n",
       "    <tr style=\"text-align: right;\">\n",
       "      <th></th>\n",
       "      <th>num_critic_for_reviews</th>\n",
       "      <th>gross</th>\n",
       "      <th>num_voted_users</th>\n",
       "      <th>num_user_for_reviews</th>\n",
       "      <th>budget</th>\n",
       "      <th>title_year</th>\n",
       "      <th>imdb_score</th>\n",
       "      <th>movie_facebook_likes</th>\n",
       "      <th>profit</th>\n",
       "    </tr>\n",
       "    <tr>\n",
       "      <th>actor_1_name</th>\n",
       "      <th></th>\n",
       "      <th></th>\n",
       "      <th></th>\n",
       "      <th></th>\n",
       "      <th></th>\n",
       "      <th></th>\n",
       "      <th></th>\n",
       "      <th></th>\n",
       "      <th></th>\n",
       "    </tr>\n",
       "  </thead>\n",
       "  <tbody>\n",
       "    <tr>\n",
       "      <th>Brad Pitt</th>\n",
       "      <td>4165.0</td>\n",
       "      <td>1127.464628</td>\n",
       "      <td>4820925</td>\n",
       "      <td>12620.0</td>\n",
       "      <td>1178.0</td>\n",
       "      <td>34074.0</td>\n",
       "      <td>121.6</td>\n",
       "      <td>238880</td>\n",
       "      <td>-50.535372</td>\n",
       "    </tr>\n",
       "    <tr>\n",
       "      <th>Leonardo DiCaprio</th>\n",
       "      <td>6934.0</td>\n",
       "      <td>2640.581774</td>\n",
       "      <td>9281136</td>\n",
       "      <td>19204.0</td>\n",
       "      <td>1731.5</td>\n",
       "      <td>42115.0</td>\n",
       "      <td>157.4</td>\n",
       "      <td>1096000</td>\n",
       "      <td>909.081774</td>\n",
       "    </tr>\n",
       "    <tr>\n",
       "      <th>Meryl Streep</th>\n",
       "      <td>1996.0</td>\n",
       "      <td>659.117002</td>\n",
       "      <td>809001</td>\n",
       "      <td>3269.0</td>\n",
       "      <td>379.0</td>\n",
       "      <td>22039.0</td>\n",
       "      <td>74.2</td>\n",
       "      <td>32275</td>\n",
       "      <td>280.117002</td>\n",
       "    </tr>\n",
       "  </tbody>\n",
       "</table>\n",
       "</div>"
      ],
      "text/plain": [
       "                   num_critic_for_reviews        gross  num_voted_users  \\\n",
       "actor_1_name                                                              \n",
       "Brad Pitt                          4165.0  1127.464628          4820925   \n",
       "Leonardo DiCaprio                  6934.0  2640.581774          9281136   \n",
       "Meryl Streep                       1996.0   659.117002           809001   \n",
       "\n",
       "                   num_user_for_reviews  budget  title_year  imdb_score  \\\n",
       "actor_1_name                                                              \n",
       "Brad Pitt                       12620.0  1178.0     34074.0       121.6   \n",
       "Leonardo DiCaprio               19204.0  1731.5     42115.0       157.4   \n",
       "Meryl Streep                     3269.0   379.0     22039.0        74.2   \n",
       "\n",
       "                   movie_facebook_likes      profit  \n",
       "actor_1_name                                         \n",
       "Brad Pitt                        238880  -50.535372  \n",
       "Leonardo DiCaprio               1096000  909.081774  \n",
       "Meryl Streep                      32275  280.117002  "
      ]
     },
     "execution_count": 31,
     "metadata": {},
     "output_type": "execute_result"
    }
   ],
   "source": [
    "# Write your code for grouping the combined dataframe here\n",
    "Combined.groupby('actor_1_name').sum()"
   ]
  },
  {
   "cell_type": "code",
   "execution_count": 32,
   "metadata": {
    "id": "MsaOg7_FuXNg"
   },
   "outputs": [
    {
     "data": {
      "text/html": [
       "<div>\n",
       "<style scoped>\n",
       "    .dataframe tbody tr th:only-of-type {\n",
       "        vertical-align: middle;\n",
       "    }\n",
       "\n",
       "    .dataframe tbody tr th {\n",
       "        vertical-align: top;\n",
       "    }\n",
       "\n",
       "    .dataframe thead th {\n",
       "        text-align: right;\n",
       "    }\n",
       "</style>\n",
       "<table border=\"1\" class=\"dataframe\">\n",
       "  <thead>\n",
       "    <tr style=\"text-align: right;\">\n",
       "      <th></th>\n",
       "      <th>num_critic_for_reviews</th>\n",
       "      <th>gross</th>\n",
       "      <th>num_voted_users</th>\n",
       "      <th>num_user_for_reviews</th>\n",
       "      <th>budget</th>\n",
       "      <th>title_year</th>\n",
       "      <th>imdb_score</th>\n",
       "      <th>movie_facebook_likes</th>\n",
       "      <th>profit</th>\n",
       "    </tr>\n",
       "    <tr>\n",
       "      <th>actor_1_name</th>\n",
       "      <th></th>\n",
       "      <th></th>\n",
       "      <th></th>\n",
       "      <th></th>\n",
       "      <th></th>\n",
       "      <th></th>\n",
       "      <th></th>\n",
       "      <th></th>\n",
       "      <th></th>\n",
       "    </tr>\n",
       "  </thead>\n",
       "  <tbody>\n",
       "    <tr>\n",
       "      <th>Brad Pitt</th>\n",
       "      <td>245.000000</td>\n",
       "      <td>66.321449</td>\n",
       "      <td>283583.823529</td>\n",
       "      <td>742.352941</td>\n",
       "      <td>69.294118</td>\n",
       "      <td>2004.352941</td>\n",
       "      <td>7.152941</td>\n",
       "      <td>14051.764706</td>\n",
       "      <td>-2.972669</td>\n",
       "    </tr>\n",
       "    <tr>\n",
       "      <th>Leonardo DiCaprio</th>\n",
       "      <td>330.190476</td>\n",
       "      <td>125.741989</td>\n",
       "      <td>441958.857143</td>\n",
       "      <td>914.476190</td>\n",
       "      <td>82.452381</td>\n",
       "      <td>2005.476190</td>\n",
       "      <td>7.495238</td>\n",
       "      <td>52190.476190</td>\n",
       "      <td>43.289608</td>\n",
       "    </tr>\n",
       "    <tr>\n",
       "      <th>Meryl Streep</th>\n",
       "      <td>181.454545</td>\n",
       "      <td>59.919727</td>\n",
       "      <td>73545.545455</td>\n",
       "      <td>297.181818</td>\n",
       "      <td>34.454545</td>\n",
       "      <td>2003.545455</td>\n",
       "      <td>6.745455</td>\n",
       "      <td>2934.090909</td>\n",
       "      <td>25.465182</td>\n",
       "    </tr>\n",
       "  </tbody>\n",
       "</table>\n",
       "</div>"
      ],
      "text/plain": [
       "                   num_critic_for_reviews       gross  num_voted_users  \\\n",
       "actor_1_name                                                             \n",
       "Brad Pitt                      245.000000   66.321449    283583.823529   \n",
       "Leonardo DiCaprio              330.190476  125.741989    441958.857143   \n",
       "Meryl Streep                   181.454545   59.919727     73545.545455   \n",
       "\n",
       "                   num_user_for_reviews     budget   title_year  imdb_score  \\\n",
       "actor_1_name                                                                  \n",
       "Brad Pitt                    742.352941  69.294118  2004.352941    7.152941   \n",
       "Leonardo DiCaprio            914.476190  82.452381  2005.476190    7.495238   \n",
       "Meryl Streep                 297.181818  34.454545  2003.545455    6.745455   \n",
       "\n",
       "                   movie_facebook_likes     profit  \n",
       "actor_1_name                                        \n",
       "Brad Pitt                  14051.764706  -2.972669  \n",
       "Leonardo DiCaprio          52190.476190  43.289608  \n",
       "Meryl Streep                2934.090909  25.465182  "
      ]
     },
     "execution_count": 32,
     "metadata": {},
     "output_type": "execute_result"
    }
   ],
   "source": [
    "# Write the code for finding the mean of critic reviews and audience reviews here\n",
    "Combined.groupby('actor_1_name').mean()"
   ]
  },
  {
   "cell_type": "markdown",
   "metadata": {
    "id": "aXAnppSSuXNh"
   },
   "source": [
    "#### <font color='red'>Question 8: Which actor is highest rated among the three actors according to the user reviews? </font>\n",
    "-  <font color='red'>Meryl Streep</font>\n",
    "-  <font color='red'>Leonardo DiCaprio</font>\n",
    "-  <font color='red'>Brad Pitt</font>"
   ]
  },
  {
   "cell_type": "code",
   "execution_count": 33,
   "metadata": {
    "id": "eSE2FYvu75kf"
   },
   "outputs": [
    {
     "data": {
      "text/html": [
       "<div>\n",
       "<style scoped>\n",
       "    .dataframe tbody tr th:only-of-type {\n",
       "        vertical-align: middle;\n",
       "    }\n",
       "\n",
       "    .dataframe tbody tr th {\n",
       "        vertical-align: top;\n",
       "    }\n",
       "\n",
       "    .dataframe thead th {\n",
       "        text-align: right;\n",
       "    }\n",
       "</style>\n",
       "<table border=\"1\" class=\"dataframe\">\n",
       "  <thead>\n",
       "    <tr style=\"text-align: right;\">\n",
       "      <th></th>\n",
       "      <th>num_critic_for_reviews</th>\n",
       "      <th>gross</th>\n",
       "      <th>num_voted_users</th>\n",
       "      <th>num_user_for_reviews</th>\n",
       "      <th>budget</th>\n",
       "      <th>title_year</th>\n",
       "      <th>imdb_score</th>\n",
       "      <th>movie_facebook_likes</th>\n",
       "      <th>profit</th>\n",
       "    </tr>\n",
       "    <tr>\n",
       "      <th>actor_1_name</th>\n",
       "      <th></th>\n",
       "      <th></th>\n",
       "      <th></th>\n",
       "      <th></th>\n",
       "      <th></th>\n",
       "      <th></th>\n",
       "      <th></th>\n",
       "      <th></th>\n",
       "      <th></th>\n",
       "    </tr>\n",
       "  </thead>\n",
       "  <tbody>\n",
       "    <tr>\n",
       "      <th>Leonardo DiCaprio</th>\n",
       "      <td>330.190476</td>\n",
       "      <td>125.741989</td>\n",
       "      <td>441958.857143</td>\n",
       "      <td>914.476190</td>\n",
       "      <td>82.452381</td>\n",
       "      <td>2005.476190</td>\n",
       "      <td>7.495238</td>\n",
       "      <td>52190.476190</td>\n",
       "      <td>43.289608</td>\n",
       "    </tr>\n",
       "    <tr>\n",
       "      <th>Brad Pitt</th>\n",
       "      <td>245.000000</td>\n",
       "      <td>66.321449</td>\n",
       "      <td>283583.823529</td>\n",
       "      <td>742.352941</td>\n",
       "      <td>69.294118</td>\n",
       "      <td>2004.352941</td>\n",
       "      <td>7.152941</td>\n",
       "      <td>14051.764706</td>\n",
       "      <td>-2.972669</td>\n",
       "    </tr>\n",
       "    <tr>\n",
       "      <th>Meryl Streep</th>\n",
       "      <td>181.454545</td>\n",
       "      <td>59.919727</td>\n",
       "      <td>73545.545455</td>\n",
       "      <td>297.181818</td>\n",
       "      <td>34.454545</td>\n",
       "      <td>2003.545455</td>\n",
       "      <td>6.745455</td>\n",
       "      <td>2934.090909</td>\n",
       "      <td>25.465182</td>\n",
       "    </tr>\n",
       "  </tbody>\n",
       "</table>\n",
       "</div>"
      ],
      "text/plain": [
       "                   num_critic_for_reviews       gross  num_voted_users  \\\n",
       "actor_1_name                                                             \n",
       "Leonardo DiCaprio              330.190476  125.741989    441958.857143   \n",
       "Brad Pitt                      245.000000   66.321449    283583.823529   \n",
       "Meryl Streep                   181.454545   59.919727     73545.545455   \n",
       "\n",
       "                   num_user_for_reviews     budget   title_year  imdb_score  \\\n",
       "actor_1_name                                                                  \n",
       "Leonardo DiCaprio            914.476190  82.452381  2005.476190    7.495238   \n",
       "Brad Pitt                    742.352941  69.294118  2004.352941    7.152941   \n",
       "Meryl Streep                 297.181818  34.454545  2003.545455    6.745455   \n",
       "\n",
       "                   movie_facebook_likes     profit  \n",
       "actor_1_name                                        \n",
       "Leonardo DiCaprio          52190.476190  43.289608  \n",
       "Brad Pitt                  14051.764706  -2.972669  \n",
       "Meryl Streep                2934.090909  25.465182  "
      ]
     },
     "execution_count": 33,
     "metadata": {},
     "output_type": "execute_result"
    }
   ],
   "source": [
    "## Write your code here\n",
    "combined_user_review = Combined.groupby('actor_1_name').mean().sort_values('num_user_for_reviews', ascending = False)\n",
    "combined_user_review"
   ]
  },
  {
   "cell_type": "markdown",
   "metadata": {
    "id": "pVd0MXKJuXNh"
   },
   "source": [
    "#### <font color='red'>Question 9: Which actor is highest rated among the three actors according to the critics?</font>\n",
    "-  <font color='red'>Meryl Streep</font>\n",
    "-  <font color='red'>Leonardo DiCaprio</font>\n",
    "-  <font color='red'>Brad Pitt</font>"
   ]
  },
  {
   "cell_type": "code",
   "execution_count": 34,
   "metadata": {
    "id": "eoBoObqxuXNh"
   },
   "outputs": [
    {
     "data": {
      "text/html": [
       "<div>\n",
       "<style scoped>\n",
       "    .dataframe tbody tr th:only-of-type {\n",
       "        vertical-align: middle;\n",
       "    }\n",
       "\n",
       "    .dataframe tbody tr th {\n",
       "        vertical-align: top;\n",
       "    }\n",
       "\n",
       "    .dataframe thead th {\n",
       "        text-align: right;\n",
       "    }\n",
       "</style>\n",
       "<table border=\"1\" class=\"dataframe\">\n",
       "  <thead>\n",
       "    <tr style=\"text-align: right;\">\n",
       "      <th></th>\n",
       "      <th>num_critic_for_reviews</th>\n",
       "      <th>gross</th>\n",
       "      <th>num_voted_users</th>\n",
       "      <th>num_user_for_reviews</th>\n",
       "      <th>budget</th>\n",
       "      <th>title_year</th>\n",
       "      <th>imdb_score</th>\n",
       "      <th>movie_facebook_likes</th>\n",
       "      <th>profit</th>\n",
       "    </tr>\n",
       "    <tr>\n",
       "      <th>actor_1_name</th>\n",
       "      <th></th>\n",
       "      <th></th>\n",
       "      <th></th>\n",
       "      <th></th>\n",
       "      <th></th>\n",
       "      <th></th>\n",
       "      <th></th>\n",
       "      <th></th>\n",
       "      <th></th>\n",
       "    </tr>\n",
       "  </thead>\n",
       "  <tbody>\n",
       "    <tr>\n",
       "      <th>Leonardo DiCaprio</th>\n",
       "      <td>330.190476</td>\n",
       "      <td>125.741989</td>\n",
       "      <td>441958.857143</td>\n",
       "      <td>914.476190</td>\n",
       "      <td>82.452381</td>\n",
       "      <td>2005.476190</td>\n",
       "      <td>7.495238</td>\n",
       "      <td>52190.476190</td>\n",
       "      <td>43.289608</td>\n",
       "    </tr>\n",
       "    <tr>\n",
       "      <th>Brad Pitt</th>\n",
       "      <td>245.000000</td>\n",
       "      <td>66.321449</td>\n",
       "      <td>283583.823529</td>\n",
       "      <td>742.352941</td>\n",
       "      <td>69.294118</td>\n",
       "      <td>2004.352941</td>\n",
       "      <td>7.152941</td>\n",
       "      <td>14051.764706</td>\n",
       "      <td>-2.972669</td>\n",
       "    </tr>\n",
       "    <tr>\n",
       "      <th>Meryl Streep</th>\n",
       "      <td>181.454545</td>\n",
       "      <td>59.919727</td>\n",
       "      <td>73545.545455</td>\n",
       "      <td>297.181818</td>\n",
       "      <td>34.454545</td>\n",
       "      <td>2003.545455</td>\n",
       "      <td>6.745455</td>\n",
       "      <td>2934.090909</td>\n",
       "      <td>25.465182</td>\n",
       "    </tr>\n",
       "  </tbody>\n",
       "</table>\n",
       "</div>"
      ],
      "text/plain": [
       "                   num_critic_for_reviews       gross  num_voted_users  \\\n",
       "actor_1_name                                                             \n",
       "Leonardo DiCaprio              330.190476  125.741989    441958.857143   \n",
       "Brad Pitt                      245.000000   66.321449    283583.823529   \n",
       "Meryl Streep                   181.454545   59.919727     73545.545455   \n",
       "\n",
       "                   num_user_for_reviews     budget   title_year  imdb_score  \\\n",
       "actor_1_name                                                                  \n",
       "Leonardo DiCaprio            914.476190  82.452381  2005.476190    7.495238   \n",
       "Brad Pitt                    742.352941  69.294118  2004.352941    7.152941   \n",
       "Meryl Streep                 297.181818  34.454545  2003.545455    6.745455   \n",
       "\n",
       "                   movie_facebook_likes     profit  \n",
       "actor_1_name                                        \n",
       "Leonardo DiCaprio          52190.476190  43.289608  \n",
       "Brad Pitt                  14051.764706  -2.972669  \n",
       "Meryl Streep                2934.090909  25.465182  "
      ]
     },
     "execution_count": 34,
     "metadata": {},
     "output_type": "execute_result"
    }
   ],
   "source": [
    "## Write your code here\n",
    "combined_critic_review = Combined.groupby('actor_1_name').mean().sort_values('num_critic_for_reviews', ascending = False)\n",
    "combined_critic_review"
   ]
  },
  {
   "cell_type": "markdown",
   "metadata": {
    "id": "kNz6JfxRAndL"
   },
   "source": [
    "#### <font color='red'>Question 10: Which movie starting with the letter A, has the 3rd highest profit?</font>\n",
    "-  <font color='red'>Austin Powers: The Spy Who Shagged Me</font>\n",
    "-  <font color='red'>Avatar</font>\n",
    "-  <font color='red'>Avengers: Age of Ultron</font>"
   ]
  },
  {
   "cell_type": "code",
   "execution_count": 35,
   "metadata": {
    "id": "DzaZNYZ-AoG9"
   },
   "outputs": [
    {
     "data": {
      "text/plain": [
       "director_name                          Joss Whedon\n",
       "num_critic_for_reviews                       635.0\n",
       "gross                                   458.991599\n",
       "genres                     Action|Adventure|Sci-Fi\n",
       "actor_1_name                       Chris Hemsworth\n",
       "movie_title               Avengers: Age of Ultron \n",
       "num_voted_users                             462669\n",
       "num_user_for_reviews                        1117.0\n",
       "language                                   English\n",
       "budget                                       250.0\n",
       "title_year                                  2015.0\n",
       "imdb_score                                     7.5\n",
       "movie_facebook_likes                        118000\n",
       "profit                                  208.991599\n",
       "Name: 7, dtype: object"
      ]
     },
     "execution_count": 35,
     "metadata": {},
     "output_type": "execute_result"
    }
   ],
   "source": [
    "## Write your code here\n",
    "movies_with_A = movies[movies['movie_title'].str.startswith('A')].sort_values('profit', ascending = False)\n",
    "movies_with_A.iloc[2]"
   ]
  },
  {
   "cell_type": "markdown",
   "metadata": {
    "id": "wJ1uKIoJArBh"
   },
   "source": [
    "#### <font color='red'>Question 11: Among the movies starting with the letter A, who has the highest imdb score?</font>\n",
    "-  <font color='red'>American History X</font>\n",
    "-  <font color='red'>Apocalypse Now</font>\n",
    "-  <font color='red'>Avengers: Age of Ultron</font>"
   ]
  },
  {
   "cell_type": "code",
   "execution_count": 36,
   "metadata": {
    "id": "VN7X--kNAo3d"
   },
   "outputs": [
    {
     "data": {
      "text/plain": [
       "director_name                       Tony Kaye\n",
       "num_critic_for_reviews                  162.0\n",
       "gross                                6.712241\n",
       "genres                            Crime|Drama\n",
       "actor_1_name                     Ethan Suplee\n",
       "movie_title               American History X \n",
       "num_voted_users                        782437\n",
       "num_user_for_reviews                   1420.0\n",
       "language                              English\n",
       "budget                                    7.5\n",
       "title_year                             1998.0\n",
       "imdb_score                                8.6\n",
       "movie_facebook_likes                    35000\n",
       "profit                              -0.787759\n",
       "Name: 2826, dtype: object"
      ]
     },
     "execution_count": 36,
     "metadata": {},
     "output_type": "execute_result"
    }
   ],
   "source": [
    "## Write your code here\n",
    "movies_with_A = movies[movies['movie_title'].str.startswith('A')].sort_values('imdb_score', ascending = False)\n",
    "movies_with_A.iloc[0]"
   ]
  },
  {
   "cell_type": "markdown",
   "metadata": {
    "id": "EmtZWJ5XAsrW"
   },
   "source": [
    "#### <font color='red'>Question 12: Among the movies that '*Joss Whedon*' has directed, which of them made the highest profit?</font>\n",
    "-  <font color='red'>Serenity</font>\n",
    "-  <font color='red'>The Avengers</font>\n",
    "-  <font color='red'>Avengers: Age of Ultron</font>"
   ]
  },
  {
   "cell_type": "code",
   "execution_count": 37,
   "metadata": {
    "id": "rVplzSW2AsLt"
   },
   "outputs": [
    {
     "data": {
      "text/plain": [
       "director_name                         Joss Whedon\n",
       "num_critic_for_reviews                      703.0\n",
       "gross                                  623.279547\n",
       "genres                    Action|Adventure|Sci-Fi\n",
       "actor_1_name                      Chris Hemsworth\n",
       "movie_title                         The Avengers \n",
       "num_voted_users                            995415\n",
       "num_user_for_reviews                       1722.0\n",
       "language                                  English\n",
       "budget                                      220.0\n",
       "title_year                                 2012.0\n",
       "imdb_score                                    8.1\n",
       "movie_facebook_likes                       123000\n",
       "profit                                 403.279547\n",
       "Name: 16, dtype: object"
      ]
     },
     "execution_count": 37,
     "metadata": {},
     "output_type": "execute_result"
    }
   ],
   "source": [
    "## Write your code here\n",
    "jw_movies = movies[movies.director_name == 'Joss Whedon'].sort_values('profit', ascending = False)\n",
    "jw_movies.iloc[0]"
   ]
  },
  {
   "cell_type": "markdown",
   "metadata": {
    "id": "V7efizDpAw7J"
   },
   "source": [
    "#### <font color='red'>Question 13: Among the movies that were released in the year '*2007*' & '*2008*', which of them had the 2nd highest imdb score?</font>\n",
    "-  <font color='red'>The Dark Knight</font>\n",
    "-  <font color='red'>WALL·E</font>\n",
    "-  <font color='red'>No End in Sight</font>\n",
    "-  <font color='red'>Into the Wild</font>"
   ]
  },
  {
   "cell_type": "code",
   "execution_count": 38,
   "metadata": {
    "id": "w4CftII0AvZ1"
   },
   "outputs": [],
   "source": [
    "## Write your code here\n",
    "movies_07 = movies[movies.title_year == 2007]\n",
    "movies_08 = movies[movies.title_year == 2008]\n",
    "movies_07_08 = pd.concat([movies_07, movies_08])"
   ]
  },
  {
   "cell_type": "code",
   "execution_count": 39,
   "metadata": {},
   "outputs": [
    {
     "data": {
      "text/plain": [
       "director_name                                Andrew Stanton\n",
       "num_critic_for_reviews                                421.0\n",
       "gross                                            223.806889\n",
       "genres                    Adventure|Animation|Family|Sci-Fi\n",
       "actor_1_name                              John Ratzenberger\n",
       "movie_title                                         WALL·E \n",
       "num_voted_users                                      718837\n",
       "num_user_for_reviews                                 1043.0\n",
       "language                                            English\n",
       "budget                                                180.0\n",
       "title_year                                           2008.0\n",
       "imdb_score                                              8.4\n",
       "movie_facebook_likes                                  16000\n",
       "profit                                            43.806889\n",
       "Name: 56, dtype: object"
      ]
     },
     "execution_count": 39,
     "metadata": {},
     "output_type": "execute_result"
    }
   ],
   "source": [
    "movies_07_08.sort_values('imdb_score', ascending = False).iloc[1]"
   ]
  },
  {
   "cell_type": "code",
   "execution_count": null,
   "metadata": {},
   "outputs": [],
   "source": []
  }
 ],
 "metadata": {
  "colab": {
   "provenance": []
  },
  "kernelspec": {
   "display_name": "Python 3 (ipykernel)",
   "language": "python",
   "name": "python3"
  },
  "language_info": {
   "codemirror_mode": {
    "name": "ipython",
    "version": 3
   },
   "file_extension": ".py",
   "mimetype": "text/x-python",
   "name": "python",
   "nbconvert_exporter": "python",
   "pygments_lexer": "ipython3",
   "version": "3.9.13"
  }
 },
 "nbformat": 4,
 "nbformat_minor": 1
}
