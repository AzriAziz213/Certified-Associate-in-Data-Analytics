{
 "cells": [
  {
   "cell_type": "markdown",
   "metadata": {
    "id": "M4m1gkNTq7-1"
   },
   "source": [
    "### **1. Print \"+\"**\n",
    "\n",
    "**Description:**\n",
    "Given a single positive odd integer 'n' greater than 2, create a NumPy array of size (n x n) with all zeros and ones such that the ones make a shape like '+'. The lines of the plus must be present at the middle row and column.\n",
    "Hint: Start by creating a (n x n) array with all zeroes using the np.zeros() function and then fill in the ones at the appropriate indices. Use integer division (//) to access the middle rows and columns\n",
    "\n",
    "**Examples:**\n",
    "Input 1:\n",
    "3\n",
    "Output 1:\n",
    "\n",
    "```\n",
    "[[0 1 0]\n",
    " [1 1 1]\n",
    " [0 1 0]]\n",
    "```\n",
    "\n",
    "Input 2:\n",
    "5\n",
    "Output 1:\n",
    "\n",
    "```\n",
    "[[0 0 1 0 0]\n",
    " [0 0 1 0 0]\n",
    " [1 1 1 1 1]\n",
    " [0 0 1 0 0]\n",
    " [0 0 1 0 0]]\n",
    "```\n",
    "\n",
    "**Explanation:** Notice that the 1s in the arrays make a shape like '+'.\n"
   ]
  },
  {
   "cell_type": "code",
   "execution_count": 2,
   "metadata": {
    "id": "ZBokgHn9rXos"
   },
   "outputs": [],
   "source": [
    "# Write your code here\n",
    "import numpy as np"
   ]
  },
  {
   "cell_type": "code",
   "execution_count": 11,
   "metadata": {},
   "outputs": [],
   "source": [
    "array_size = 7\n",
    "center = array_size // 2\n",
    "\n",
    "x = np.zeros((array_size,array_size))\n",
    "\n",
    "x[center,:] = 1\n",
    "x[:,center] = 1"
   ]
  },
  {
   "cell_type": "code",
   "execution_count": 12,
   "metadata": {},
   "outputs": [
    {
     "data": {
      "text/plain": [
       "array([[0., 0., 0., 1., 0., 0., 0.],\n",
       "       [0., 0., 0., 1., 0., 0., 0.],\n",
       "       [0., 0., 0., 1., 0., 0., 0.],\n",
       "       [1., 1., 1., 1., 1., 1., 1.],\n",
       "       [0., 0., 0., 1., 0., 0., 0.],\n",
       "       [0., 0., 0., 1., 0., 0., 0.],\n",
       "       [0., 0., 0., 1., 0., 0., 0.]])"
      ]
     },
     "execution_count": 12,
     "metadata": {},
     "output_type": "execute_result"
    }
   ],
   "source": [
    "x"
   ]
  },
  {
   "cell_type": "markdown",
   "metadata": {
    "id": "XZDrxflPrk8U"
   },
   "source": [
    "### **2. Weight Loss**\n",
    "\n",
    "**Description:** With your 25th birthday fast approaching, you decide to get in shape and lose some weight. You record your weight every day for five weeks starting on a Monday.\n",
    "\n",
    "```\n",
    "import numpy as np\n",
    "\n",
    "weights = 175 - np.arange(5*7)/5\n",
    "print(weights)\n",
    "```\n",
    "\n",
    "Given these daily weights, build an array with your average weight per weekend\n",
    "\n"
   ]
  },
  {
   "cell_type": "code",
   "execution_count": 13,
   "metadata": {
    "id": "tC0hI0IdtC6W"
   },
   "outputs": [
    {
     "name": "stdout",
     "output_type": "stream",
     "text": [
      "[175.  174.8 174.6 174.4 174.2 174.  173.8 173.6 173.4 173.2 173.  172.8\n",
      " 172.6 172.4 172.2 172.  171.8 171.6 171.4 171.2 171.  170.8 170.6 170.4\n",
      " 170.2 170.  169.8 169.6 169.4 169.2 169.  168.8 168.6 168.4 168.2]\n"
     ]
    }
   ],
   "source": [
    "# Write your code here\n",
    "weights = 175 - np.arange(5*7)/5\n",
    "print(weights)"
   ]
  },
  {
   "cell_type": "code",
   "execution_count": 24,
   "metadata": {},
   "outputs": [
    {
     "name": "stdout",
     "output_type": "stream",
     "text": [
      "[174.5 173.3 172.1 170.9 169.7]\n"
     ]
    }
   ],
   "source": [
    "weekend_weight = []\n",
    "weekend_weight_counter = 0\n",
    "j = 0\n",
    "\n",
    "for i in weights:\n",
    "#     print(f'day {i}')\n",
    "    weekend_weight_counter += i\n",
    "    j+=1\n",
    "    if j == 6:\n",
    "        weekend_weight.append(weekend_weight_counter/j)\n",
    "        \n",
    "        j = 0\n",
    "        weekend_weight_counter = 0\n",
    "\n",
    "weekend_weight = np.array(weekend_weight)\n",
    "print(weekend_weight)"
   ]
  },
  {
   "cell_type": "markdown",
   "metadata": {
    "id": "UDFDypAVsEL_"
   },
   "source": [
    "### **3. Gaming Nicks**\n",
    "\n",
    "**Description:** You want to start playing a first person shooter game and you are confused to find a gaming nick for yourself, hence you asked your friends and you’ve compiled the names into a Series called nicks.\n",
    "import numpy as np\n",
    "import pandas as pd\n",
    "\n",
    "\n",
    "\n",
    "```\n",
    "nicks = pd.Series([\n",
    "    'Pik', 'Devine99', 'Spawn', 'Prodigy', 'Superkiller420', 'Pik', 'tornado',\n",
    "    'tornado', 'roger', 'Gabriel', 'Chad', 'Ryan', 'Phoenix', 'Phoenix', 'Phoenix',\n",
    "    'Phoenix', 'Zeltron', 'Ryan', 'Ruger', 'Ruger', 'roger',\n",
    "    'roger', 'Chad', 'Chad', 'Gabriel'], dtype='string')\n",
    "```\n",
    "\n",
    "Determine how many people voted for the names ‘Phoenix’, ‘roger’, and ‘Pik’.\n"
   ]
  },
  {
   "cell_type": "code",
   "execution_count": 26,
   "metadata": {
    "id": "mnGi9MxYsakP"
   },
   "outputs": [],
   "source": [
    "# Write your code here\n",
    "import numpy as np \n",
    "import pandas as pd"
   ]
  },
  {
   "cell_type": "code",
   "execution_count": 27,
   "metadata": {
    "id": "_PWehNTxtEno"
   },
   "outputs": [],
   "source": [
    "nicks = pd.Series([\n",
    "    'Pik', 'Devine99', 'Spawn', 'Prodigy', 'Superkiller420', 'Pik', 'tornado',\n",
    "    'tornado', 'roger', 'Gabriel', 'Chad', 'Ryan', 'Phoenix', 'Phoenix', 'Phoenix',\n",
    "    'Phoenix', 'Zeltron', 'Ryan', 'Ruger', 'Ruger', 'roger',\n",
    "    'roger', 'Chad', 'Chad', 'Gabriel'], dtype='string')"
   ]
  },
  {
   "cell_type": "code",
   "execution_count": 30,
   "metadata": {},
   "outputs": [
    {
     "name": "stdout",
     "output_type": "stream",
     "text": [
      "4 voted for the names Phoenix\n",
      "3 voted for the names roger\n",
      "2 voted for the names Pik\n"
     ]
    }
   ],
   "source": [
    "phoenix_counter = 0\n",
    "roger_counter = 0\n",
    "pik_counter = 0\n",
    "\n",
    "for i in nicks:\n",
    "    if i == 'Phoenix':\n",
    "        phoenix_counter+=1\n",
    "    elif i == 'roger':\n",
    "        roger_counter+=1\n",
    "    elif i == 'Pik':\n",
    "        pik_counter+=1\n",
    "    else:\n",
    "        continue\n",
    "\n",
    "print(f'{phoenix_counter} voted for the names Phoenix')\n",
    "print(f'{roger_counter} voted for the names roger')\n",
    "print(f'{pik_counter} voted for the names Pik')"
   ]
  },
  {
   "cell_type": "code",
   "execution_count": null,
   "metadata": {},
   "outputs": [],
   "source": []
  }
 ],
 "metadata": {
  "colab": {
   "provenance": []
  },
  "kernelspec": {
   "display_name": "Python 3 (ipykernel)",
   "language": "python",
   "name": "python3"
  },
  "language_info": {
   "codemirror_mode": {
    "name": "ipython",
    "version": 3
   },
   "file_extension": ".py",
   "mimetype": "text/x-python",
   "name": "python",
   "nbconvert_exporter": "python",
   "pygments_lexer": "ipython3",
   "version": "3.9.13"
  }
 },
 "nbformat": 4,
 "nbformat_minor": 1
}
